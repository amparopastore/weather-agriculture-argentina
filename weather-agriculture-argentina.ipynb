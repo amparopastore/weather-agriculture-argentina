{
 "cells": [
  {
   "cell_type": "markdown",
   "id": "af6bd4dd",
   "metadata": {},
   "source": [
    "Amparo Godoy Pastore </br>\n",
    "April 28th, 2023\n",
    " \n",
    "\n",
    "<h1 style=\"text-align: center;\">Impact of Precipitation on Wheat, Corn, and Soybean Yield in Buenos Aires, Argentina (1993 - 2022)</h1>"
   ]
  },
  {
   "cell_type": "markdown",
   "id": "238ea645",
   "metadata": {},
   "source": [
    "# Table of Contents\n",
    "\n",
    "1. [Introduction](#first-bullet)\n",
    "2. [Preliminaries](#second-bullet)\n",
    "3. [Data Collection](#third-bullet)\n",
    "4. [Visualization](#fourth-bullet)\n",
    "5. [Precipitations vs. Crop Yield](#fifth-bullet)\n",
    "6. [Introducing other independent variables](#sixth-bullet)\n",
    "7. [Discussion](#seventh-bullet)"
   ]
  },
  {
   "cell_type": "markdown",
   "id": "af6c252d",
   "metadata": {},
   "source": [
    "# 1. Introduction <a class=\"anchor\" id=\"first-bullet\"></a>\n",
    "\n",
    "Argentina is a country highly dependent on its agricultural sector, which represents a significant part of its economy. The province of Buenos Aires is among the most important agricultural regions, producing a significant portion of the country's crops. However, agricultural production in this region is highly vulnerable to changes in weather patterns, particularly rainfall.\n",
    "\n",
    "In recent years, the impact of rainfall on agricultural production has become a topic of increasing concern in Argentina. As reported by Agrositio, the dry climate and high temperatures have been affecting crop yields and impacting the profitability of farmers in these regions. \n",
    "\n",
    "This project aims to analyze the impact of precipitations on agricultural production in Argentina's most important agricultural region, where alternative irrigation methods are limited. Our primary goal is to examinate how strong of a correlation, if any, there is between precipitations and crop yield, and assess whether it is a good predictor for crop yield. "
   ]
  },
  {
   "cell_type": "markdown",
   "id": "e7908a91",
   "metadata": {},
   "source": [
    "# 2. Preliminaries <a class=\"anchor\" id=\"second-bullet\"></a>\n",
    "\n",
    "Here, we import the necessary modules."
   ]
  },
  {
   "cell_type": "code",
   "execution_count": 3,
   "id": "b5c5a113",
   "metadata": {},
   "outputs": [],
   "source": [
    "import pandas as pd\n",
    "import matplotlib as mpl\n",
    "import matplotlib.pyplot as plt\n",
    "import numpy as np\n",
    "from datetime import datetime\n",
    "from meteostat import Normals, Stations, Daily, Monthly, Point\n",
    "from sklearn.linear_model import LinearRegression\n",
    "import folium\n",
    "import matplotlib.dates as mdates\n",
    "import plotly.graph_objects as go\n",
    "import seaborn as sns\n",
    "from sklearn.cluster import KMeans\n",
    "import statsmodels.api as sm\n",
    "from scipy.stats import pearsonr\n",
    "from IPython.display import display, HTML\n",
    "from scipy.stats import spearmanr, kendalltau"
   ]
  },
  {
   "cell_type": "markdown",
   "id": "7d739f26",
   "metadata": {},
   "source": [
    "# 3. Data collection <a class=\"anchor\" id=\"third-bullet\"></a>\n",
    "\n",
    "\n",
    "## 3.2 Precipitation Data\n",
    "\n",
    "We start by collecting precipitation data for the study area of Buenos Aires, Argentina, from the **Meteostat Python library**. This data will be used to investigate the relationship between precipitation and crop yield and ultimately provide insights into the factors that affect agricultural productivity in the region.\n",
    "\n",
    "To collect the precipitation data, we first search for weather stations in the area using the `Stations()` function. We then filter these stations based on their proximity to Buenos Aires. Finally, we visualize the distribution of these stations on a map to see how much coverage we have of the study area."
   ]
  },
  {
   "cell_type": "code",
   "execution_count": 50,
   "id": "0d647213",
   "metadata": {},
   "outputs": [
    {
     "data": {
      "text/html": [
       "<div style=\"width:100%;\"><div style=\"position:relative;width:100%;height:0;padding-bottom:60%;\"><span style=\"color:#565656\">Make this Notebook Trusted to load map: File -> Trust Notebook</span><iframe srcdoc=\"&lt;!DOCTYPE html&gt;\n",
       "&lt;html&gt;\n",
       "&lt;head&gt;\n",
       "    \n",
       "    &lt;meta http-equiv=&quot;content-type&quot; content=&quot;text/html; charset=UTF-8&quot; /&gt;\n",
       "    \n",
       "        &lt;script&gt;\n",
       "            L_NO_TOUCH = false;\n",
       "            L_DISABLE_3D = false;\n",
       "        &lt;/script&gt;\n",
       "    \n",
       "    &lt;style&gt;html, body {width: 100%;height: 100%;margin: 0;padding: 0;}&lt;/style&gt;\n",
       "    &lt;style&gt;#map {position:absolute;top:0;bottom:0;right:0;left:0;}&lt;/style&gt;\n",
       "    &lt;script src=&quot;https://cdn.jsdelivr.net/npm/leaflet@1.9.3/dist/leaflet.js&quot;&gt;&lt;/script&gt;\n",
       "    &lt;script src=&quot;https://code.jquery.com/jquery-1.12.4.min.js&quot;&gt;&lt;/script&gt;\n",
       "    &lt;script src=&quot;https://cdn.jsdelivr.net/npm/bootstrap@5.2.2/dist/js/bootstrap.bundle.min.js&quot;&gt;&lt;/script&gt;\n",
       "    &lt;script src=&quot;https://cdnjs.cloudflare.com/ajax/libs/Leaflet.awesome-markers/2.0.2/leaflet.awesome-markers.js&quot;&gt;&lt;/script&gt;\n",
       "    &lt;link rel=&quot;stylesheet&quot; href=&quot;https://cdn.jsdelivr.net/npm/leaflet@1.9.3/dist/leaflet.css&quot;/&gt;\n",
       "    &lt;link rel=&quot;stylesheet&quot; href=&quot;https://cdn.jsdelivr.net/npm/bootstrap@5.2.2/dist/css/bootstrap.min.css&quot;/&gt;\n",
       "    &lt;link rel=&quot;stylesheet&quot; href=&quot;https://netdna.bootstrapcdn.com/bootstrap/3.0.0/css/bootstrap.min.css&quot;/&gt;\n",
       "    &lt;link rel=&quot;stylesheet&quot; href=&quot;https://cdn.jsdelivr.net/npm/@fortawesome/fontawesome-free@6.2.0/css/all.min.css&quot;/&gt;\n",
       "    &lt;link rel=&quot;stylesheet&quot; href=&quot;https://cdnjs.cloudflare.com/ajax/libs/Leaflet.awesome-markers/2.0.2/leaflet.awesome-markers.css&quot;/&gt;\n",
       "    &lt;link rel=&quot;stylesheet&quot; href=&quot;https://cdn.jsdelivr.net/gh/python-visualization/folium/folium/templates/leaflet.awesome.rotate.min.css&quot;/&gt;\n",
       "    \n",
       "            &lt;meta name=&quot;viewport&quot; content=&quot;width=device-width,\n",
       "                initial-scale=1.0, maximum-scale=1.0, user-scalable=no&quot; /&gt;\n",
       "            &lt;style&gt;\n",
       "                #map_dd6fe36cf12d68605b147929aa0bedfd {\n",
       "                    position: relative;\n",
       "                    width: 100.0%;\n",
       "                    height: 100.0%;\n",
       "                    left: 0.0%;\n",
       "                    top: 0.0%;\n",
       "                }\n",
       "                .leaflet-container { font-size: 1rem; }\n",
       "            &lt;/style&gt;\n",
       "        \n",
       "&lt;/head&gt;\n",
       "&lt;body&gt;\n",
       "    \n",
       "    \n",
       "            &lt;div class=&quot;folium-map&quot; id=&quot;map_dd6fe36cf12d68605b147929aa0bedfd&quot; &gt;&lt;/div&gt;\n",
       "        \n",
       "&lt;/body&gt;\n",
       "&lt;script&gt;\n",
       "    \n",
       "    \n",
       "            var map_dd6fe36cf12d68605b147929aa0bedfd = L.map(\n",
       "                &quot;map_dd6fe36cf12d68605b147929aa0bedfd&quot;,\n",
       "                {\n",
       "                    center: [0, 0],\n",
       "                    crs: L.CRS.EPSG3857,\n",
       "                    zoom: 1,\n",
       "                    zoomControl: true,\n",
       "                    preferCanvas: false,\n",
       "                }\n",
       "            );\n",
       "\n",
       "            \n",
       "\n",
       "        \n",
       "    \n",
       "            var tile_layer_ca923b3228a41bdb9ae5ab761e503d81 = L.tileLayer(\n",
       "                &quot;https://{s}.tile.openstreetmap.org/{z}/{x}/{y}.png&quot;,\n",
       "                {&quot;attribution&quot;: &quot;Data by \\u0026copy; \\u003ca target=\\&quot;_blank\\&quot; href=\\&quot;http://openstreetmap.org\\&quot;\\u003eOpenStreetMap\\u003c/a\\u003e, under \\u003ca target=\\&quot;_blank\\&quot; href=\\&quot;http://www.openstreetmap.org/copyright\\&quot;\\u003eODbL\\u003c/a\\u003e.&quot;, &quot;detectRetina&quot;: false, &quot;maxNativeZoom&quot;: 18, &quot;maxZoom&quot;: 18, &quot;minZoom&quot;: 0, &quot;noWrap&quot;: false, &quot;opacity&quot;: 1, &quot;subdomains&quot;: &quot;abc&quot;, &quot;tms&quot;: false}\n",
       "            ).addTo(map_dd6fe36cf12d68605b147929aa0bedfd);\n",
       "        \n",
       "    \n",
       "            var circle_marker_9c397ee0c6aaa48f26d9f9a73e496e43 = L.circleMarker(\n",
       "                [-34.5667, -58.4167],\n",
       "                {&quot;bubblingMouseEvents&quot;: true, &quot;color&quot;: &quot;#EA047E&quot;, &quot;dashArray&quot;: null, &quot;dashOffset&quot;: null, &quot;fill&quot;: true, &quot;fillColor&quot;: &quot;#EA047E&quot;, &quot;fillOpacity&quot;: 1, &quot;fillRule&quot;: &quot;evenodd&quot;, &quot;lineCap&quot;: &quot;round&quot;, &quot;lineJoin&quot;: &quot;round&quot;, &quot;opacity&quot;: 1.0, &quot;radius&quot;: 2, &quot;stroke&quot;: true, &quot;weight&quot;: 3}\n",
       "            ).addTo(map_dd6fe36cf12d68605b147929aa0bedfd);\n",
       "        \n",
       "    \n",
       "            var circle_marker_8da09ecdbae10529d0fbc4ed11a6ad0c = L.circleMarker(\n",
       "                [-34.5833, -58.4833],\n",
       "                {&quot;bubblingMouseEvents&quot;: true, &quot;color&quot;: &quot;#EA047E&quot;, &quot;dashArray&quot;: null, &quot;dashOffset&quot;: null, &quot;fill&quot;: true, &quot;fillColor&quot;: &quot;#EA047E&quot;, &quot;fillOpacity&quot;: 1, &quot;fillRule&quot;: &quot;evenodd&quot;, &quot;lineCap&quot;: &quot;round&quot;, &quot;lineJoin&quot;: &quot;round&quot;, &quot;opacity&quot;: 1.0, &quot;radius&quot;: 2, &quot;stroke&quot;: true, &quot;weight&quot;: 3}\n",
       "            ).addTo(map_dd6fe36cf12d68605b147929aa0bedfd);\n",
       "        \n",
       "    \n",
       "            var circle_marker_1f8c7a5029d6adada1ca58a371d43302 = L.circleMarker(\n",
       "                [-34.6, -58.6],\n",
       "                {&quot;bubblingMouseEvents&quot;: true, &quot;color&quot;: &quot;#EA047E&quot;, &quot;dashArray&quot;: null, &quot;dashOffset&quot;: null, &quot;fill&quot;: true, &quot;fillColor&quot;: &quot;#EA047E&quot;, &quot;fillOpacity&quot;: 1, &quot;fillRule&quot;: &quot;evenodd&quot;, &quot;lineCap&quot;: &quot;round&quot;, &quot;lineJoin&quot;: &quot;round&quot;, &quot;opacity&quot;: 1.0, &quot;radius&quot;: 2, &quot;stroke&quot;: true, &quot;weight&quot;: 3}\n",
       "            ).addTo(map_dd6fe36cf12d68605b147929aa0bedfd);\n",
       "        \n",
       "    \n",
       "            var circle_marker_bd37867a93949aa9ceb91860c9f397f4 = L.circleMarker(\n",
       "                [-34.45, -58.5833],\n",
       "                {&quot;bubblingMouseEvents&quot;: true, &quot;color&quot;: &quot;#EA047E&quot;, &quot;dashArray&quot;: null, &quot;dashOffset&quot;: null, &quot;fill&quot;: true, &quot;fillColor&quot;: &quot;#EA047E&quot;, &quot;fillOpacity&quot;: 1, &quot;fillRule&quot;: &quot;evenodd&quot;, &quot;lineCap&quot;: &quot;round&quot;, &quot;lineJoin&quot;: &quot;round&quot;, &quot;opacity&quot;: 1.0, &quot;radius&quot;: 2, &quot;stroke&quot;: true, &quot;weight&quot;: 3}\n",
       "            ).addTo(map_dd6fe36cf12d68605b147929aa0bedfd);\n",
       "        \n",
       "    \n",
       "            var circle_marker_a0b473525d894f6f43291b9520417687 = L.circleMarker(\n",
       "                [-34.4833, -58.6167],\n",
       "                {&quot;bubblingMouseEvents&quot;: true, &quot;color&quot;: &quot;#EA047E&quot;, &quot;dashArray&quot;: null, &quot;dashOffset&quot;: null, &quot;fill&quot;: true, &quot;fillColor&quot;: &quot;#EA047E&quot;, &quot;fillOpacity&quot;: 1, &quot;fillRule&quot;: &quot;evenodd&quot;, &quot;lineCap&quot;: &quot;round&quot;, &quot;lineJoin&quot;: &quot;round&quot;, &quot;opacity&quot;: 1.0, &quot;radius&quot;: 2, &quot;stroke&quot;: true, &quot;weight&quot;: 3}\n",
       "            ).addTo(map_dd6fe36cf12d68605b147929aa0bedfd);\n",
       "        \n",
       "    \n",
       "            var circle_marker_b55ced7904bb8cc7eb8b7eeecb836c0c = L.circleMarker(\n",
       "                [-34.6833, -58.65],\n",
       "                {&quot;bubblingMouseEvents&quot;: true, &quot;color&quot;: &quot;#EA047E&quot;, &quot;dashArray&quot;: null, &quot;dashOffset&quot;: null, &quot;fill&quot;: true, &quot;fillColor&quot;: &quot;#EA047E&quot;, &quot;fillOpacity&quot;: 1, &quot;fillRule&quot;: &quot;evenodd&quot;, &quot;lineCap&quot;: &quot;round&quot;, &quot;lineJoin&quot;: &quot;round&quot;, &quot;opacity&quot;: 1.0, &quot;radius&quot;: 2, &quot;stroke&quot;: true, &quot;weight&quot;: 3}\n",
       "            ).addTo(map_dd6fe36cf12d68605b147929aa0bedfd);\n",
       "        \n",
       "    \n",
       "            var circle_marker_fe5cba2022fda7c894fb92372fdde785 = L.circleMarker(\n",
       "                [-34.8167, -58.5333],\n",
       "                {&quot;bubblingMouseEvents&quot;: true, &quot;color&quot;: &quot;#EA047E&quot;, &quot;dashArray&quot;: null, &quot;dashOffset&quot;: null, &quot;fill&quot;: true, &quot;fillColor&quot;: &quot;#EA047E&quot;, &quot;fillOpacity&quot;: 1, &quot;fillRule&quot;: &quot;evenodd&quot;, &quot;lineCap&quot;: &quot;round&quot;, &quot;lineJoin&quot;: &quot;round&quot;, &quot;opacity&quot;: 1.0, &quot;radius&quot;: 2, &quot;stroke&quot;: true, &quot;weight&quot;: 3}\n",
       "            ).addTo(map_dd6fe36cf12d68605b147929aa0bedfd);\n",
       "        \n",
       "    \n",
       "            var circle_marker_161b6881581356b460bb3860a8e87979 = L.circleMarker(\n",
       "                [-34.5344, -58.6717],\n",
       "                {&quot;bubblingMouseEvents&quot;: true, &quot;color&quot;: &quot;#EA047E&quot;, &quot;dashArray&quot;: null, &quot;dashOffset&quot;: null, &quot;fill&quot;: true, &quot;fillColor&quot;: &quot;#EA047E&quot;, &quot;fillOpacity&quot;: 1, &quot;fillRule&quot;: &quot;evenodd&quot;, &quot;lineCap&quot;: &quot;round&quot;, &quot;lineJoin&quot;: &quot;round&quot;, &quot;opacity&quot;: 1.0, &quot;radius&quot;: 2, &quot;stroke&quot;: true, &quot;weight&quot;: 3}\n",
       "            ).addTo(map_dd6fe36cf12d68605b147929aa0bedfd);\n",
       "        \n",
       "    \n",
       "            var circle_marker_810e7ee74784955c30e74122055f458f = L.circleMarker(\n",
       "                [-34.5667, -58.7833],\n",
       "                {&quot;bubblingMouseEvents&quot;: true, &quot;color&quot;: &quot;#EA047E&quot;, &quot;dashArray&quot;: null, &quot;dashOffset&quot;: null, &quot;fill&quot;: true, &quot;fillColor&quot;: &quot;#EA047E&quot;, &quot;fillOpacity&quot;: 1, &quot;fillRule&quot;: &quot;evenodd&quot;, &quot;lineCap&quot;: &quot;round&quot;, &quot;lineJoin&quot;: &quot;round&quot;, &quot;opacity&quot;: 1.0, &quot;radius&quot;: 2, &quot;stroke&quot;: true, &quot;weight&quot;: 3}\n",
       "            ).addTo(map_dd6fe36cf12d68605b147929aa0bedfd);\n",
       "        \n",
       "    \n",
       "            var circle_marker_96ef6dfc63e3a880a76df5c26c6b9b69 = L.circleMarker(\n",
       "                [-34.9667, -57.9],\n",
       "                {&quot;bubblingMouseEvents&quot;: true, &quot;color&quot;: &quot;#EA047E&quot;, &quot;dashArray&quot;: null, &quot;dashOffset&quot;: null, &quot;fill&quot;: true, &quot;fillColor&quot;: &quot;#EA047E&quot;, &quot;fillOpacity&quot;: 1, &quot;fillRule&quot;: &quot;evenodd&quot;, &quot;lineCap&quot;: &quot;round&quot;, &quot;lineJoin&quot;: &quot;round&quot;, &quot;opacity&quot;: 1.0, &quot;radius&quot;: 2, &quot;stroke&quot;: true, &quot;weight&quot;: 3}\n",
       "            ).addTo(map_dd6fe36cf12d68605b147929aa0bedfd);\n",
       "        \n",
       "    \n",
       "            var circle_marker_c5dffc23efb5f4ee96d6bdcbfafdd292 = L.circleMarker(\n",
       "                [-35.3667, -57.2833],\n",
       "                {&quot;bubblingMouseEvents&quot;: true, &quot;color&quot;: &quot;#EA047E&quot;, &quot;dashArray&quot;: null, &quot;dashOffset&quot;: null, &quot;fill&quot;: true, &quot;fillColor&quot;: &quot;#EA047E&quot;, &quot;fillOpacity&quot;: 1, &quot;fillRule&quot;: &quot;evenodd&quot;, &quot;lineCap&quot;: &quot;round&quot;, &quot;lineJoin&quot;: &quot;round&quot;, &quot;opacity&quot;: 1.0, &quot;radius&quot;: 2, &quot;stroke&quot;: true, &quot;weight&quot;: 3}\n",
       "            ).addTo(map_dd6fe36cf12d68605b147929aa0bedfd);\n",
       "        \n",
       "    \n",
       "            var circle_marker_3ec3892354e35ae4f45e9fdf95fb758b = L.circleMarker(\n",
       "                [-36.0667, -59.1],\n",
       "                {&quot;bubblingMouseEvents&quot;: true, &quot;color&quot;: &quot;#EA047E&quot;, &quot;dashArray&quot;: null, &quot;dashOffset&quot;: null, &quot;fill&quot;: true, &quot;fillColor&quot;: &quot;#EA047E&quot;, &quot;fillOpacity&quot;: 1, &quot;fillRule&quot;: &quot;evenodd&quot;, &quot;lineCap&quot;: &quot;round&quot;, &quot;lineJoin&quot;: &quot;round&quot;, &quot;opacity&quot;: 1.0, &quot;radius&quot;: 2, &quot;stroke&quot;: true, &quot;weight&quot;: 3}\n",
       "            ).addTo(map_dd6fe36cf12d68605b147929aa0bedfd);\n",
       "        \n",
       "    \n",
       "            var circle_marker_998b2b8e68fb990b836776ede631d236 = L.circleMarker(\n",
       "                [-36.35, -57.7333],\n",
       "                {&quot;bubblingMouseEvents&quot;: true, &quot;color&quot;: &quot;#EA047E&quot;, &quot;dashArray&quot;: null, &quot;dashOffset&quot;: null, &quot;fill&quot;: true, &quot;fillColor&quot;: &quot;#EA047E&quot;, &quot;fillOpacity&quot;: 1, &quot;fillRule&quot;: &quot;evenodd&quot;, &quot;lineCap&quot;: &quot;round&quot;, &quot;lineJoin&quot;: &quot;round&quot;, &quot;opacity&quot;: 1.0, &quot;radius&quot;: 2, &quot;stroke&quot;: true, &quot;weight&quot;: 3}\n",
       "            ).addTo(map_dd6fe36cf12d68605b147929aa0bedfd);\n",
       "        \n",
       "    \n",
       "            var circle_marker_5fe8491699d221a29e8249e829e309d6 = L.circleMarker(\n",
       "                [-34.55, -60.9167],\n",
       "                {&quot;bubblingMouseEvents&quot;: true, &quot;color&quot;: &quot;#EA047E&quot;, &quot;dashArray&quot;: null, &quot;dashOffset&quot;: null, &quot;fill&quot;: true, &quot;fillColor&quot;: &quot;#EA047E&quot;, &quot;fillOpacity&quot;: 1, &quot;fillRule&quot;: &quot;evenodd&quot;, &quot;lineCap&quot;: &quot;round&quot;, &quot;lineJoin&quot;: &quot;round&quot;, &quot;opacity&quot;: 1.0, &quot;radius&quot;: 2, &quot;stroke&quot;: true, &quot;weight&quot;: 3}\n",
       "            ).addTo(map_dd6fe36cf12d68605b147929aa0bedfd);\n",
       "        \n",
       "    \n",
       "            var circle_marker_ece44b8c807b755751e2fdeee1428392 = L.circleMarker(\n",
       "                [-35.45, -60.8833],\n",
       "                {&quot;bubblingMouseEvents&quot;: true, &quot;color&quot;: &quot;#EA047E&quot;, &quot;dashArray&quot;: null, &quot;dashOffset&quot;: null, &quot;fill&quot;: true, &quot;fillColor&quot;: &quot;#EA047E&quot;, &quot;fillOpacity&quot;: 1, &quot;fillRule&quot;: &quot;evenodd&quot;, &quot;lineCap&quot;: &quot;round&quot;, &quot;lineJoin&quot;: &quot;round&quot;, &quot;opacity&quot;: 1.0, &quot;radius&quot;: 2, &quot;stroke&quot;: true, &quot;weight&quot;: 3}\n",
       "            ).addTo(map_dd6fe36cf12d68605b147929aa0bedfd);\n",
       "        \n",
       "    \n",
       "            var circle_marker_8808e1d0493beb04a0cd1361ef8a163e = L.circleMarker(\n",
       "                [-36.75, -59.8333],\n",
       "                {&quot;bubblingMouseEvents&quot;: true, &quot;color&quot;: &quot;#EA047E&quot;, &quot;dashArray&quot;: null, &quot;dashOffset&quot;: null, &quot;fill&quot;: true, &quot;fillColor&quot;: &quot;#EA047E&quot;, &quot;fillOpacity&quot;: 1, &quot;fillRule&quot;: &quot;evenodd&quot;, &quot;lineCap&quot;: &quot;round&quot;, &quot;lineJoin&quot;: &quot;round&quot;, &quot;opacity&quot;: 1.0, &quot;radius&quot;: 2, &quot;stroke&quot;: true, &quot;weight&quot;: 3}\n",
       "            ).addTo(map_dd6fe36cf12d68605b147929aa0bedfd);\n",
       "        \n",
       "    \n",
       "            var circle_marker_f15c81e35585549137d70d9c1f77dbe5 = L.circleMarker(\n",
       "                [-36.8333, -59.8833],\n",
       "                {&quot;bubblingMouseEvents&quot;: true, &quot;color&quot;: &quot;#EA047E&quot;, &quot;dashArray&quot;: null, &quot;dashOffset&quot;: null, &quot;fill&quot;: true, &quot;fillColor&quot;: &quot;#EA047E&quot;, &quot;fillOpacity&quot;: 1, &quot;fillRule&quot;: &quot;evenodd&quot;, &quot;lineCap&quot;: &quot;round&quot;, &quot;lineJoin&quot;: &quot;round&quot;, &quot;opacity&quot;: 1.0, &quot;radius&quot;: 2, &quot;stroke&quot;: true, &quot;weight&quot;: 3}\n",
       "            ).addTo(map_dd6fe36cf12d68605b147929aa0bedfd);\n",
       "        \n",
       "    \n",
       "            var circle_marker_671bf0d676beffc4ac666219f16486f9 = L.circleMarker(\n",
       "                [-36.2, -61.0667],\n",
       "                {&quot;bubblingMouseEvents&quot;: true, &quot;color&quot;: &quot;#EA047E&quot;, &quot;dashArray&quot;: null, &quot;dashOffset&quot;: null, &quot;fill&quot;: true, &quot;fillColor&quot;: &quot;#EA047E&quot;, &quot;fillOpacity&quot;: 1, &quot;fillRule&quot;: &quot;evenodd&quot;, &quot;lineCap&quot;: &quot;round&quot;, &quot;lineJoin&quot;: &quot;round&quot;, &quot;opacity&quot;: 1.0, &quot;radius&quot;: 2, &quot;stroke&quot;: true, &quot;weight&quot;: 3}\n",
       "            ).addTo(map_dd6fe36cf12d68605b147929aa0bedfd);\n",
       "        \n",
       "    \n",
       "            var circle_marker_1a436fe482aec11aa35131c8a8f7767e = L.circleMarker(\n",
       "                [-37.2333, -59.25],\n",
       "                {&quot;bubblingMouseEvents&quot;: true, &quot;color&quot;: &quot;#EA047E&quot;, &quot;dashArray&quot;: null, &quot;dashOffset&quot;: null, &quot;fill&quot;: true, &quot;fillColor&quot;: &quot;#EA047E&quot;, &quot;fillOpacity&quot;: 1, &quot;fillRule&quot;: &quot;evenodd&quot;, &quot;lineCap&quot;: &quot;round&quot;, &quot;lineJoin&quot;: &quot;round&quot;, &quot;opacity&quot;: 1.0, &quot;radius&quot;: 2, &quot;stroke&quot;: true, &quot;weight&quot;: 3}\n",
       "            ).addTo(map_dd6fe36cf12d68605b147929aa0bedfd);\n",
       "        \n",
       "    \n",
       "            var circle_marker_34d404ff8c979fe30d26662db862a035 = L.circleMarker(\n",
       "                [-36.8833, -60.2167],\n",
       "                {&quot;bubblingMouseEvents&quot;: true, &quot;color&quot;: &quot;#EA047E&quot;, &quot;dashArray&quot;: null, &quot;dashOffset&quot;: null, &quot;fill&quot;: true, &quot;fillColor&quot;: &quot;#EA047E&quot;, &quot;fillOpacity&quot;: 1, &quot;fillRule&quot;: &quot;evenodd&quot;, &quot;lineCap&quot;: &quot;round&quot;, &quot;lineJoin&quot;: &quot;round&quot;, &quot;opacity&quot;: 1.0, &quot;radius&quot;: 2, &quot;stroke&quot;: true, &quot;weight&quot;: 3}\n",
       "            ).addTo(map_dd6fe36cf12d68605b147929aa0bedfd);\n",
       "        \n",
       "    \n",
       "            var circle_marker_a3db86ec67db461b3b1aa37a05dfd1be = L.circleMarker(\n",
       "                [-36.25, -61.1],\n",
       "                {&quot;bubblingMouseEvents&quot;: true, &quot;color&quot;: &quot;#EA047E&quot;, &quot;dashArray&quot;: null, &quot;dashOffset&quot;: null, &quot;fill&quot;: true, &quot;fillColor&quot;: &quot;#EA047E&quot;, &quot;fillOpacity&quot;: 1, &quot;fillRule&quot;: &quot;evenodd&quot;, &quot;lineCap&quot;: &quot;round&quot;, &quot;lineJoin&quot;: &quot;round&quot;, &quot;opacity&quot;: 1.0, &quot;radius&quot;: 2, &quot;stroke&quot;: true, &quot;weight&quot;: 3}\n",
       "            ).addTo(map_dd6fe36cf12d68605b147929aa0bedfd);\n",
       "        \n",
       "    \n",
       "            var circle_marker_f3186c2ff1c7227d8bee8e8466bb0b96 = L.circleMarker(\n",
       "                [-37.2333, -57.0333],\n",
       "                {&quot;bubblingMouseEvents&quot;: true, &quot;color&quot;: &quot;#EA047E&quot;, &quot;dashArray&quot;: null, &quot;dashOffset&quot;: null, &quot;fill&quot;: true, &quot;fillColor&quot;: &quot;#EA047E&quot;, &quot;fillOpacity&quot;: 1, &quot;fillRule&quot;: &quot;evenodd&quot;, &quot;lineCap&quot;: &quot;round&quot;, &quot;lineJoin&quot;: &quot;round&quot;, &quot;opacity&quot;: 1.0, &quot;radius&quot;: 2, &quot;stroke&quot;: true, &quot;weight&quot;: 3}\n",
       "            ).addTo(map_dd6fe36cf12d68605b147929aa0bedfd);\n",
       "        \n",
       "    \n",
       "            var circle_marker_394d000c478ebc912e01a0e6cbaa0f25 = L.circleMarker(\n",
       "                [-35.8667, -61.9],\n",
       "                {&quot;bubblingMouseEvents&quot;: true, &quot;color&quot;: &quot;#EA047E&quot;, &quot;dashArray&quot;: null, &quot;dashOffset&quot;: null, &quot;fill&quot;: true, &quot;fillColor&quot;: &quot;#EA047E&quot;, &quot;fillOpacity&quot;: 1, &quot;fillRule&quot;: &quot;evenodd&quot;, &quot;lineCap&quot;: &quot;round&quot;, &quot;lineJoin&quot;: &quot;round&quot;, &quot;opacity&quot;: 1.0, &quot;radius&quot;: 2, &quot;stroke&quot;: true, &quot;weight&quot;: 3}\n",
       "            ).addTo(map_dd6fe36cf12d68605b147929aa0bedfd);\n",
       "        \n",
       "    \n",
       "            var circle_marker_027a0b57e0b6d5482e2828eb29410b61 = L.circleMarker(\n",
       "                [-37.9333, -57.5833],\n",
       "                {&quot;bubblingMouseEvents&quot;: true, &quot;color&quot;: &quot;#EA047E&quot;, &quot;dashArray&quot;: null, &quot;dashOffset&quot;: null, &quot;fill&quot;: true, &quot;fillColor&quot;: &quot;#EA047E&quot;, &quot;fillOpacity&quot;: 1, &quot;fillRule&quot;: &quot;evenodd&quot;, &quot;lineCap&quot;: &quot;round&quot;, &quot;lineJoin&quot;: &quot;round&quot;, &quot;opacity&quot;: 1.0, &quot;radius&quot;: 2, &quot;stroke&quot;: true, &quot;weight&quot;: 3}\n",
       "            ).addTo(map_dd6fe36cf12d68605b147929aa0bedfd);\n",
       "        \n",
       "    \n",
       "            var circle_marker_eeadc9675c4f9b250f37d2c44f86f60c = L.circleMarker(\n",
       "                [-38.05, -57.55],\n",
       "                {&quot;bubblingMouseEvents&quot;: true, &quot;color&quot;: &quot;#EA047E&quot;, &quot;dashArray&quot;: null, &quot;dashOffset&quot;: null, &quot;fill&quot;: true, &quot;fillColor&quot;: &quot;#EA047E&quot;, &quot;fillOpacity&quot;: 1, &quot;fillRule&quot;: &quot;evenodd&quot;, &quot;lineCap&quot;: &quot;round&quot;, &quot;lineJoin&quot;: &quot;round&quot;, &quot;opacity&quot;: 1.0, &quot;radius&quot;: 2, &quot;stroke&quot;: true, &quot;weight&quot;: 3}\n",
       "            ).addTo(map_dd6fe36cf12d68605b147929aa0bedfd);\n",
       "        \n",
       "    \n",
       "            var circle_marker_073c21778536c1e99b8b2f82ed86679f = L.circleMarker(\n",
       "                [-37.4333, -61.8833],\n",
       "                {&quot;bubblingMouseEvents&quot;: true, &quot;color&quot;: &quot;#EA047E&quot;, &quot;dashArray&quot;: null, &quot;dashOffset&quot;: null, &quot;fill&quot;: true, &quot;fillColor&quot;: &quot;#EA047E&quot;, &quot;fillOpacity&quot;: 1, &quot;fillRule&quot;: &quot;evenodd&quot;, &quot;lineCap&quot;: &quot;round&quot;, &quot;lineJoin&quot;: &quot;round&quot;, &quot;opacity&quot;: 1.0, &quot;radius&quot;: 2, &quot;stroke&quot;: true, &quot;weight&quot;: 3}\n",
       "            ).addTo(map_dd6fe36cf12d68605b147929aa0bedfd);\n",
       "        \n",
       "    \n",
       "            var circle_marker_6a2f7c7c50ec71274686b280199ede2f = L.circleMarker(\n",
       "                [-38.3333, -60.25],\n",
       "                {&quot;bubblingMouseEvents&quot;: true, &quot;color&quot;: &quot;#EA047E&quot;, &quot;dashArray&quot;: null, &quot;dashOffset&quot;: null, &quot;fill&quot;: true, &quot;fillColor&quot;: &quot;#EA047E&quot;, &quot;fillOpacity&quot;: 1, &quot;fillRule&quot;: &quot;evenodd&quot;, &quot;lineCap&quot;: &quot;round&quot;, &quot;lineJoin&quot;: &quot;round&quot;, &quot;opacity&quot;: 1.0, &quot;radius&quot;: 2, &quot;stroke&quot;: true, &quot;weight&quot;: 3}\n",
       "            ).addTo(map_dd6fe36cf12d68605b147929aa0bedfd);\n",
       "        \n",
       "    \n",
       "            var circle_marker_5b6b2e388a45e05c34bcbc397b2091bb = L.circleMarker(\n",
       "                [-37.6, -62.3833],\n",
       "                {&quot;bubblingMouseEvents&quot;: true, &quot;color&quot;: &quot;#EA047E&quot;, &quot;dashArray&quot;: null, &quot;dashOffset&quot;: null, &quot;fill&quot;: true, &quot;fillColor&quot;: &quot;#EA047E&quot;, &quot;fillOpacity&quot;: 1, &quot;fillRule&quot;: &quot;evenodd&quot;, &quot;lineCap&quot;: &quot;round&quot;, &quot;lineJoin&quot;: &quot;round&quot;, &quot;opacity&quot;: 1.0, &quot;radius&quot;: 2, &quot;stroke&quot;: true, &quot;weight&quot;: 3}\n",
       "            ).addTo(map_dd6fe36cf12d68605b147929aa0bedfd);\n",
       "        \n",
       "    \n",
       "            var circle_marker_b7fb2f4bb50a31af605a4b345babeb9f = L.circleMarker(\n",
       "                [-38.7333, -62.1667],\n",
       "                {&quot;bubblingMouseEvents&quot;: true, &quot;color&quot;: &quot;#EA047E&quot;, &quot;dashArray&quot;: null, &quot;dashOffset&quot;: null, &quot;fill&quot;: true, &quot;fillColor&quot;: &quot;#EA047E&quot;, &quot;fillOpacity&quot;: 1, &quot;fillRule&quot;: &quot;evenodd&quot;, &quot;lineCap&quot;: &quot;round&quot;, &quot;lineJoin&quot;: &quot;round&quot;, &quot;opacity&quot;: 1.0, &quot;radius&quot;: 2, &quot;stroke&quot;: true, &quot;weight&quot;: 3}\n",
       "            ).addTo(map_dd6fe36cf12d68605b147929aa0bedfd);\n",
       "        \n",
       "    \n",
       "            map_dd6fe36cf12d68605b147929aa0bedfd.fitBounds(\n",
       "                [[-38.7333, -62.3833], [-34.45, -57.0333]],\n",
       "                {&quot;padding&quot;: [10, 10]}\n",
       "            );\n",
       "        \n",
       "&lt;/script&gt;\n",
       "&lt;/html&gt;\" style=\"position:absolute;width:100%;height:100%;left:0;top:0;border:none !important;\" allowfullscreen webkitallowfullscreen mozallowfullscreen></iframe></div></div>"
      ],
      "text/plain": [
       "<folium.folium.Map at 0x150e63d2e30>"
      ]
     },
     "metadata": {},
     "output_type": "display_data"
    }
   ],
   "source": [
    "# Search for weather stations in Buenos Aires\n",
    "stations = Stations()\n",
    "# Finding nearby stations\n",
    "stations = stations.nearby(-34.603722, -58.381592).fetch().query('timezone == \"America/Argentina/Buenos_Aires\"')\n",
    "# Set boundaries for the North and South\n",
    "stations = stations.loc[(stations[\"latitude\"] < -33.326321) & (stations[\"latitude\"] > -40.821350)] \n",
    "\n",
    "# Now we need to look at the distribution of the stations to see where the data is coming from\n",
    "m = folium.Map()\n",
    "coord = list(zip(stations['latitude'], stations['longitude']))\n",
    "for point in coord:\n",
    "    folium.CircleMarker(point, fill = True, color = \"#EA047E\", fill_opacity = 1, radius = 2).add_to(m)\n",
    "\n",
    "#Resize map to fit data\n",
    "m.fit_bounds(m.get_bounds(), padding = (10, 10))\n",
    "\n",
    "#Display\n",
    "display(m)"
   ]
  },
  {
   "cell_type": "markdown",
   "id": "759141f7",
   "metadata": {},
   "source": [
    "While a single weather station may provide accurate information on the precipitation at that location, it may not be representative of the precipitation patterns in the surrounding areas. By selecting multiple weather stations that are representative of different regions in the study area, we can capture the spatial variability of precipitation and better understand how it affects crop yield.\n",
    "\n",
    "For this purpose, we are using `K-Means` clustering to group the weather stations in Buenos Aires into three clusters and select one station from each cluster. We get the labels assigned to each station by the clustering algorithm using the `.labels_` attribute of the kmeans object. Next, we find the index of the station closest to the center of each cluster. Lastly, we use `.iloc[]` to index the stations DataFrame using the indices list we created earlier. These selected stations will be used to compute the average monthly precipitations for Buenos Aires. "
   ]
  },
  {
   "cell_type": "code",
   "execution_count": 5,
   "id": "a4464035",
   "metadata": {},
   "outputs": [
    {
     "name": "stderr",
     "output_type": "stream",
     "text": [
      "FutureWarning: The default value of `n_init` will change from 10 to 'auto' in 1.4. Set the value of `n_init` explicitly to suppress the warning\n",
      "UserWarning: KMeans is known to have a memory leak on Windows with MKL, when there are less chunks than available threads. You can avoid it by setting the environment variable OMP_NUM_THREADS=1.\n"
     ]
    }
   ],
   "source": [
    "# Create a numpy array of the latitudes and longitudes of the stations\n",
    "coords = np.array(list(zip(stations['latitude'], stations['longitude'])))\n",
    "\n",
    "# Use K-Means clustering to group the stations into clusters\n",
    "n_clusters = 3 # choose the number of clusters\n",
    "kmeans = KMeans(n_clusters=n_clusters, random_state=0).fit(coords)\n",
    "labels = kmeans.labels_\n",
    "\n",
    "# Get the index of the station closest to the centroid of each cluster\n",
    "indices = [] # Contains indices of selected stations \n",
    "for i in range(n_clusters):\n",
    "    # Loop over each cluster and get the indices of the stations assigned to that cluster\n",
    "    cluster_indices = np.where(labels == i)[0]\n",
    "    center = kmeans.cluster_centers_[i] # Get the center of the cluster\n",
    "    distances = np.linalg.norm(coords[cluster_indices] - center, axis=1)\n",
    "    closest_index = cluster_indices[np.argmin(distances)] # Get the index of the station with the shortest distance to the center\n",
    "    indices.append(closest_index)\n",
    "\n",
    "# Get the selected stations and compute the average of their forecasts\n",
    "selected_stations = stations.iloc[indices]"
   ]
  },
  {
   "cell_type": "markdown",
   "id": "474fbff4",
   "metadata": {},
   "source": [
    "Let's visualize the location of the selected weather stations on the map to confirm that we have enough coverage of the study area."
   ]
  },
  {
   "cell_type": "code",
   "execution_count": 49,
   "id": "bb9ecf5a",
   "metadata": {},
   "outputs": [
    {
     "data": {
      "text/html": [
       "<div style=\"width:100%;\"><div style=\"position:relative;width:100%;height:0;padding-bottom:60%;\"><span style=\"color:#565656\">Make this Notebook Trusted to load map: File -> Trust Notebook</span><iframe srcdoc=\"&lt;!DOCTYPE html&gt;\n",
       "&lt;html&gt;\n",
       "&lt;head&gt;\n",
       "    \n",
       "    &lt;meta http-equiv=&quot;content-type&quot; content=&quot;text/html; charset=UTF-8&quot; /&gt;\n",
       "    \n",
       "        &lt;script&gt;\n",
       "            L_NO_TOUCH = false;\n",
       "            L_DISABLE_3D = false;\n",
       "        &lt;/script&gt;\n",
       "    \n",
       "    &lt;style&gt;html, body {width: 100%;height: 100%;margin: 0;padding: 0;}&lt;/style&gt;\n",
       "    &lt;style&gt;#map {position:absolute;top:0;bottom:0;right:0;left:0;}&lt;/style&gt;\n",
       "    &lt;script src=&quot;https://cdn.jsdelivr.net/npm/leaflet@1.9.3/dist/leaflet.js&quot;&gt;&lt;/script&gt;\n",
       "    &lt;script src=&quot;https://code.jquery.com/jquery-1.12.4.min.js&quot;&gt;&lt;/script&gt;\n",
       "    &lt;script src=&quot;https://cdn.jsdelivr.net/npm/bootstrap@5.2.2/dist/js/bootstrap.bundle.min.js&quot;&gt;&lt;/script&gt;\n",
       "    &lt;script src=&quot;https://cdnjs.cloudflare.com/ajax/libs/Leaflet.awesome-markers/2.0.2/leaflet.awesome-markers.js&quot;&gt;&lt;/script&gt;\n",
       "    &lt;link rel=&quot;stylesheet&quot; href=&quot;https://cdn.jsdelivr.net/npm/leaflet@1.9.3/dist/leaflet.css&quot;/&gt;\n",
       "    &lt;link rel=&quot;stylesheet&quot; href=&quot;https://cdn.jsdelivr.net/npm/bootstrap@5.2.2/dist/css/bootstrap.min.css&quot;/&gt;\n",
       "    &lt;link rel=&quot;stylesheet&quot; href=&quot;https://netdna.bootstrapcdn.com/bootstrap/3.0.0/css/bootstrap.min.css&quot;/&gt;\n",
       "    &lt;link rel=&quot;stylesheet&quot; href=&quot;https://cdn.jsdelivr.net/npm/@fortawesome/fontawesome-free@6.2.0/css/all.min.css&quot;/&gt;\n",
       "    &lt;link rel=&quot;stylesheet&quot; href=&quot;https://cdnjs.cloudflare.com/ajax/libs/Leaflet.awesome-markers/2.0.2/leaflet.awesome-markers.css&quot;/&gt;\n",
       "    &lt;link rel=&quot;stylesheet&quot; href=&quot;https://cdn.jsdelivr.net/gh/python-visualization/folium/folium/templates/leaflet.awesome.rotate.min.css&quot;/&gt;\n",
       "    \n",
       "            &lt;meta name=&quot;viewport&quot; content=&quot;width=device-width,\n",
       "                initial-scale=1.0, maximum-scale=1.0, user-scalable=no&quot; /&gt;\n",
       "            &lt;style&gt;\n",
       "                #map_571f2ddee9d035f8a6ac618c9c75ad35 {\n",
       "                    position: relative;\n",
       "                    width: 100.0%;\n",
       "                    height: 100.0%;\n",
       "                    left: 0.0%;\n",
       "                    top: 0.0%;\n",
       "                }\n",
       "                .leaflet-container { font-size: 1rem; }\n",
       "            &lt;/style&gt;\n",
       "        \n",
       "&lt;/head&gt;\n",
       "&lt;body&gt;\n",
       "    \n",
       "    \n",
       "            &lt;div class=&quot;folium-map&quot; id=&quot;map_571f2ddee9d035f8a6ac618c9c75ad35&quot; &gt;&lt;/div&gt;\n",
       "        \n",
       "&lt;/body&gt;\n",
       "&lt;script&gt;\n",
       "    \n",
       "    \n",
       "            var map_571f2ddee9d035f8a6ac618c9c75ad35 = L.map(\n",
       "                &quot;map_571f2ddee9d035f8a6ac618c9c75ad35&quot;,\n",
       "                {\n",
       "                    center: [0, 0],\n",
       "                    crs: L.CRS.EPSG3857,\n",
       "                    zoom: 1,\n",
       "                    zoomControl: true,\n",
       "                    preferCanvas: false,\n",
       "                }\n",
       "            );\n",
       "\n",
       "            \n",
       "\n",
       "        \n",
       "    \n",
       "            var tile_layer_9d361437dd2d285cc391d32d8b6dde57 = L.tileLayer(\n",
       "                &quot;https://{s}.tile.openstreetmap.org/{z}/{x}/{y}.png&quot;,\n",
       "                {&quot;attribution&quot;: &quot;Data by \\u0026copy; \\u003ca target=\\&quot;_blank\\&quot; href=\\&quot;http://openstreetmap.org\\&quot;\\u003eOpenStreetMap\\u003c/a\\u003e, under \\u003ca target=\\&quot;_blank\\&quot; href=\\&quot;http://www.openstreetmap.org/copyright\\&quot;\\u003eODbL\\u003c/a\\u003e.&quot;, &quot;detectRetina&quot;: false, &quot;maxNativeZoom&quot;: 18, &quot;maxZoom&quot;: 18, &quot;minZoom&quot;: 0, &quot;noWrap&quot;: false, &quot;opacity&quot;: 1, &quot;subdomains&quot;: &quot;abc&quot;, &quot;tms&quot;: false}\n",
       "            ).addTo(map_571f2ddee9d035f8a6ac618c9c75ad35);\n",
       "        \n",
       "    \n",
       "            var circle_marker_7a670829de182d45ea3016c68071db8e = L.circleMarker(\n",
       "                [-34.8167, -58.5333],\n",
       "                {&quot;bubblingMouseEvents&quot;: true, &quot;color&quot;: &quot;#EA047E&quot;, &quot;dashArray&quot;: null, &quot;dashOffset&quot;: null, &quot;fill&quot;: true, &quot;fillColor&quot;: &quot;#EA047E&quot;, &quot;fillOpacity&quot;: 1, &quot;fillRule&quot;: &quot;evenodd&quot;, &quot;lineCap&quot;: &quot;round&quot;, &quot;lineJoin&quot;: &quot;round&quot;, &quot;opacity&quot;: 1.0, &quot;radius&quot;: 5, &quot;stroke&quot;: true, &quot;weight&quot;: 3}\n",
       "            ).addTo(map_571f2ddee9d035f8a6ac618c9c75ad35);\n",
       "        \n",
       "    \n",
       "            var circle_marker_2330d8756e8c72ddba90ecc373f7eb37 = L.circleMarker(\n",
       "                [-36.25, -61.1],\n",
       "                {&quot;bubblingMouseEvents&quot;: true, &quot;color&quot;: &quot;#EA047E&quot;, &quot;dashArray&quot;: null, &quot;dashOffset&quot;: null, &quot;fill&quot;: true, &quot;fillColor&quot;: &quot;#EA047E&quot;, &quot;fillOpacity&quot;: 1, &quot;fillRule&quot;: &quot;evenodd&quot;, &quot;lineCap&quot;: &quot;round&quot;, &quot;lineJoin&quot;: &quot;round&quot;, &quot;opacity&quot;: 1.0, &quot;radius&quot;: 5, &quot;stroke&quot;: true, &quot;weight&quot;: 3}\n",
       "            ).addTo(map_571f2ddee9d035f8a6ac618c9c75ad35);\n",
       "        \n",
       "    \n",
       "            var circle_marker_d85b58838be3133b03490dd711d38e21 = L.circleMarker(\n",
       "                [-37.9333, -57.5833],\n",
       "                {&quot;bubblingMouseEvents&quot;: true, &quot;color&quot;: &quot;#EA047E&quot;, &quot;dashArray&quot;: null, &quot;dashOffset&quot;: null, &quot;fill&quot;: true, &quot;fillColor&quot;: &quot;#EA047E&quot;, &quot;fillOpacity&quot;: 1, &quot;fillRule&quot;: &quot;evenodd&quot;, &quot;lineCap&quot;: &quot;round&quot;, &quot;lineJoin&quot;: &quot;round&quot;, &quot;opacity&quot;: 1.0, &quot;radius&quot;: 5, &quot;stroke&quot;: true, &quot;weight&quot;: 3}\n",
       "            ).addTo(map_571f2ddee9d035f8a6ac618c9c75ad35);\n",
       "        \n",
       "    \n",
       "            map_571f2ddee9d035f8a6ac618c9c75ad35.fitBounds(\n",
       "                [[-37.9333, -61.1], [-34.8167, -57.5833]],\n",
       "                {&quot;padding&quot;: [10, 10]}\n",
       "            );\n",
       "        \n",
       "&lt;/script&gt;\n",
       "&lt;/html&gt;\" style=\"position:absolute;width:100%;height:100%;left:0;top:0;border:none !important;\" allowfullscreen webkitallowfullscreen mozallowfullscreen></iframe></div></div>"
      ],
      "text/plain": [
       "<folium.folium.Map at 0x150e626f460>"
      ]
     },
     "metadata": {},
     "output_type": "display_data"
    }
   ],
   "source": [
    "# Creating numpy array of coordinates for selected stations\n",
    "coords2 = np.array(list(zip(selected_stations['latitude'], selected_stations['longitude'])))\n",
    "\n",
    "# Map\n",
    "n = folium.Map()\n",
    "for point in coords2:\n",
    "    folium.CircleMarker(point, fill = True, color = \"#EA047E\", fill_opacity = 1, radius = 5).add_to(n)\n",
    "    \n",
    "#Resize map to fit data\n",
    "n.fit_bounds(n.get_bounds(), padding = (10, 10))\n",
    "display(n)"
   ]
  },
  {
   "cell_type": "markdown",
   "id": "905f1c06",
   "metadata": {},
   "source": [
    "After selecting the three weather stations that are representative of the Buenos Aires region, we now need to collect precipitation data from each station. We set the time period of interest from January 1, 1993 to December 31, 2022 and fetch daily precipitation data for each point. We then average the daily precipitation data from the three stations to get the overall precipitation for the region, and calculate mean monthly precipitations. The data is stored in a DataFrame `prcp`."
   ]
  },
  {
   "cell_type": "code",
   "execution_count": 7,
   "id": "4f9e43c2",
   "metadata": {},
   "outputs": [
    {
     "data": {
      "text/html": [
       "<div>\n",
       "<style scoped>\n",
       "    .dataframe tbody tr th:only-of-type {\n",
       "        vertical-align: middle;\n",
       "    }\n",
       "\n",
       "    .dataframe tbody tr th {\n",
       "        vertical-align: top;\n",
       "    }\n",
       "\n",
       "    .dataframe thead th {\n",
       "        text-align: right;\n",
       "    }\n",
       "</style>\n",
       "<table border=\"1\" class=\"dataframe\">\n",
       "  <thead>\n",
       "    <tr style=\"text-align: right;\">\n",
       "      <th></th>\n",
       "      <th></th>\n",
       "      <th>prcp</th>\n",
       "      <th>Year</th>\n",
       "    </tr>\n",
       "    <tr>\n",
       "      <th>time</th>\n",
       "      <th>time</th>\n",
       "      <th></th>\n",
       "      <th></th>\n",
       "    </tr>\n",
       "  </thead>\n",
       "  <tbody>\n",
       "    <tr>\n",
       "      <th rowspan=\"5\" valign=\"top\">1993</th>\n",
       "      <th>1</th>\n",
       "      <td>2.987634</td>\n",
       "      <td>1993</td>\n",
       "    </tr>\n",
       "    <tr>\n",
       "      <th>2</th>\n",
       "      <td>3.147222</td>\n",
       "      <td>1993</td>\n",
       "    </tr>\n",
       "    <tr>\n",
       "      <th>3</th>\n",
       "      <td>6.974405</td>\n",
       "      <td>1993</td>\n",
       "    </tr>\n",
       "    <tr>\n",
       "      <th>4</th>\n",
       "      <td>6.140741</td>\n",
       "      <td>1993</td>\n",
       "    </tr>\n",
       "    <tr>\n",
       "      <th>5</th>\n",
       "      <td>2.915054</td>\n",
       "      <td>1993</td>\n",
       "    </tr>\n",
       "  </tbody>\n",
       "</table>\n",
       "</div>"
      ],
      "text/plain": [
       "               prcp  Year\n",
       "time time                \n",
       "1993 1     2.987634  1993\n",
       "     2     3.147222  1993\n",
       "     3     6.974405  1993\n",
       "     4     6.140741  1993\n",
       "     5     2.915054  1993"
      ]
     },
     "execution_count": 7,
     "metadata": {},
     "output_type": "execute_result"
    }
   ],
   "source": [
    "# Set time period\n",
    "start = datetime(1993, 1, 1)\n",
    "end = datetime(2022, 12, 31)\n",
    "\n",
    "# Stores dataframes\n",
    "dfs = []\n",
    "\n",
    "# Loop through each station and create point and fetch daily data\n",
    "for i in range(n_clusters):\n",
    "    S = Point(coords2[i,0], coords2[i,1])\n",
    "    df = Daily(S, start, end).fetch()\n",
    "    dfs.append(df)\n",
    "\n",
    "# Averaging the Daily precipitations from the stations\n",
    "prcp = pd.concat(dfs).groupby('time', as_index=True).agg({'prcp':'mean'})\n",
    "\n",
    "# Now getting monthly mean precipitations\n",
    "prcp = prcp.groupby([(prcp.index.year), (prcp.index.month)]).mean()\n",
    "prcp['Year'] = prcp.index.get_level_values(0)\n",
    "prcp.head()"
   ]
  },
  {
   "cell_type": "markdown",
   "id": "55570dc9",
   "metadata": {},
   "source": [
    "## 3.2 Crop Yield Data\n",
    "\n",
    "In order to understand the relationship between crop yield and precipitation, we need to collect data on crop yields in Buenos Aires. The dataset we will be using is called Estimaciones.xlsx and it is publicly available on the website of the **Argentinian Ministry of Agriculture, Livestock, and Fisheries**. The dataset contains information on crop yields for different provinces in Argentina, broken down by crop type and crop season from 1992/93 to 2021/22.\n",
    "\n",
    "For our analysis, we will focus on the province of Buenos Aires and the variable \"Rendimiento\" (yield), which is measured in tons per hectare. We will create a new dataframe called \"crops\" that includes only the data for Buenos Aires province. The dataframe contains columns for crop type, crop season, province, area planted, area harvested, production, and yield. We will be using the yield variable to investigate the relationship between precipitation and crop yield in the region."
   ]
  },
  {
   "cell_type": "code",
   "execution_count": 8,
   "id": "ff8c9796",
   "metadata": {},
   "outputs": [
    {
     "data": {
      "text/html": [
       "<div>\n",
       "<style scoped>\n",
       "    .dataframe tbody tr th:only-of-type {\n",
       "        vertical-align: middle;\n",
       "    }\n",
       "\n",
       "    .dataframe tbody tr th {\n",
       "        vertical-align: top;\n",
       "    }\n",
       "\n",
       "    .dataframe thead th {\n",
       "        text-align: right;\n",
       "    }\n",
       "</style>\n",
       "<table border=\"1\" class=\"dataframe\">\n",
       "  <thead>\n",
       "    <tr style=\"text-align: right;\">\n",
       "      <th></th>\n",
       "      <th>Cultivo</th>\n",
       "      <th>Campaña</th>\n",
       "      <th>Provincia</th>\n",
       "      <th>idProvincia</th>\n",
       "      <th>Sup. Sembrada</th>\n",
       "      <th>Sup. Cosechada</th>\n",
       "      <th>Producción</th>\n",
       "      <th>Rendimiento</th>\n",
       "    </tr>\n",
       "  </thead>\n",
       "  <tbody>\n",
       "    <tr>\n",
       "      <th>205</th>\n",
       "      <td>Trigo total</td>\n",
       "      <td>2017/18</td>\n",
       "      <td>BUENOS AIRES</td>\n",
       "      <td>6.0</td>\n",
       "      <td>1989714.0</td>\n",
       "      <td>1969969.0</td>\n",
       "      <td>7611227.0</td>\n",
       "      <td>3864.0</td>\n",
       "    </tr>\n",
       "    <tr>\n",
       "      <th>206</th>\n",
       "      <td>Trigo total</td>\n",
       "      <td>2018/19</td>\n",
       "      <td>BUENOS AIRES</td>\n",
       "      <td>6.0</td>\n",
       "      <td>2342984.0</td>\n",
       "      <td>2258598.0</td>\n",
       "      <td>9017580.0</td>\n",
       "      <td>3993.0</td>\n",
       "    </tr>\n",
       "    <tr>\n",
       "      <th>207</th>\n",
       "      <td>Trigo total</td>\n",
       "      <td>2019/20</td>\n",
       "      <td>BUENOS AIRES</td>\n",
       "      <td>6.0</td>\n",
       "      <td>2484078.0</td>\n",
       "      <td>2410907.0</td>\n",
       "      <td>7810038.0</td>\n",
       "      <td>3239.0</td>\n",
       "    </tr>\n",
       "    <tr>\n",
       "      <th>208</th>\n",
       "      <td>Trigo total</td>\n",
       "      <td>2020/21</td>\n",
       "      <td>BUENOS AIRES</td>\n",
       "      <td>6.0</td>\n",
       "      <td>2747910.0</td>\n",
       "      <td>2734339.0</td>\n",
       "      <td>10480586.0</td>\n",
       "      <td>3833.0</td>\n",
       "    </tr>\n",
       "    <tr>\n",
       "      <th>209</th>\n",
       "      <td>Trigo total</td>\n",
       "      <td>2021/22</td>\n",
       "      <td>BUENOS AIRES</td>\n",
       "      <td>6.0</td>\n",
       "      <td>2601214.0</td>\n",
       "      <td>2539045.0</td>\n",
       "      <td>9687585.0</td>\n",
       "      <td>3815.0</td>\n",
       "    </tr>\n",
       "  </tbody>\n",
       "</table>\n",
       "</div>"
      ],
      "text/plain": [
       "         Cultivo  Campaña     Provincia  idProvincia  Sup. Sembrada   \n",
       "205  Trigo total  2017/18  BUENOS AIRES          6.0      1989714.0  \\\n",
       "206  Trigo total  2018/19  BUENOS AIRES          6.0      2342984.0   \n",
       "207  Trigo total  2019/20  BUENOS AIRES          6.0      2484078.0   \n",
       "208  Trigo total  2020/21  BUENOS AIRES          6.0      2747910.0   \n",
       "209  Trigo total  2021/22  BUENOS AIRES          6.0      2601214.0   \n",
       "\n",
       "     Sup. Cosechada  Producción  Rendimiento  \n",
       "205       1969969.0   7611227.0       3864.0  \n",
       "206       2258598.0   9017580.0       3993.0  \n",
       "207       2410907.0   7810038.0       3239.0  \n",
       "208       2734339.0  10480586.0       3833.0  \n",
       "209       2539045.0   9687585.0       3815.0  "
      ]
     },
     "execution_count": 8,
     "metadata": {},
     "output_type": "execute_result"
    }
   ],
   "source": [
    "# Data frame for crops\n",
    "cropsdf = pd.read_excel('Estimaciones.xlsx')\n",
    "crops = cropsdf[cropsdf.Provincia == \"BUENOS AIRES\"]\n",
    "crops.tail(5)"
   ]
  },
  {
   "cell_type": "markdown",
   "id": "0e82c0bd",
   "metadata": {},
   "source": [
    "#  4. Visualization <a class=\"anchor\" id=\"fourth-bullet\"></a>\n",
    "\n",
    "In this section, we visualize the data from both DataFrames to analyze trends and anomalies.\n",
    "\n",
    "## 4.1 Historical precipitation data\n",
    "\n",
    "The bar plot below (_Figure 1_) shows the monthly precipitation anomalies from 1993 to 2022. An anomaly represents the difference between a value and the average value of that same parameter for a certain time period. In this case, the anomalies are calculated by subtracting the average of all monthly precipitations from the original data. \n",
    "\n",
    "From 1993 to 2019, the anomalies fluctuate above and below the average. However, since 2020, most monthly precipitation anomalies have been below the average line, indicating a consistent decrease in precipitation levels. This coincides with the state of agricultural emergency the Argentine government declared due to droughts in the region. Furthermore, the website, Agrositio, reports that the government has extended the agricultural emergency, suggesting that the current trend of below-average precipitation levels is likely to continue, potentially impacting crop yields in the future. Overall, the plot highlights the need for further analysis of the effects of these precipitation patterns on crop yields."
   ]
  },
  {
   "cell_type": "code",
   "execution_count": 33,
   "id": "d374a4c2",
   "metadata": {},
   "outputs": [],
   "source": [
    "# Calculate mean monthly precipitations\n",
    "mean_prcp = prcp.mean()\n",
    "\n",
    "# Calculate anomalies\n",
    "prcp_anomalies = prcp - mean_prcp\n",
    "\n",
    "# Convert the multi-level index to a DatetimeIndex with the format %y%m\n",
    "prcp_anomalies.index = pd.to_datetime(prcp_anomalies.index.get_level_values(0).astype(str) + \n",
    "                                      prcp_anomalies.index.get_level_values(1).astype(str), format='%Y%m')\n",
    "\n",
    "# Colors for the map\n",
    "# Choose the extreme colours of the colour map\n",
    "colours = [\"#FAA7C1\", \"#ED4A7D\"]\n",
    "\n",
    "# Colormap - Build the colour maps\n",
    "cmap = mpl.colors.LinearSegmentedColormap.from_list(\"colour_map\", colours, N=256)\n",
    "norm = mpl.colors.Normalize(prcp_anomalies['prcp'].min(), prcp_anomalies['prcp'].max()) # linearly normalizes data into the [0.0, 1.0] interval"
   ]
  },
  {
   "cell_type": "code",
   "execution_count": 106,
   "id": "564ad1ee",
   "metadata": {},
   "outputs": [
    {
     "data": {
      "image/png": "[encoded data removed]",
      "text/plain": [
       "<Figure size 640x480 with 1 Axes>"
      ]
     },
     "metadata": {},
     "output_type": "display_data"
    }
   ],
   "source": [
    "# Create a bar plot of the monthly precipitation anomalies\n",
    "fig, ax = plt.subplots()\n",
    "ax.bar(prcp_anomalies.index.astype(str), np.array(prcp_anomalies['prcp']), color = cmap(norm(np.array(prcp_anomalies['prcp']))))\n",
    "\n",
    "# Add a horizontal line at y=0 to indicate the average\n",
    "ax.axhline(y=0, color='grey', label = 'Mean')\n",
    "ax.legend()\n",
    "\n",
    "# Set the x-tick labels\n",
    "ax.set_xticks(prcp_anomalies.index.astype(str)[::18])\n",
    "ax.set_xticklabels([str(val)[:4] for val in prcp_anomalies.index.astype(str)[::18]], rotation=90)\n",
    "\n",
    "# Add axis labels and a title\n",
    "ax.set_xlabel('Months', labelpad=15, color='#333333')\n",
    "ax.set_ylabel('Precipitation Anomalies (mm)', labelpad=15, color='#333333')\n",
    "ax.set_title('Figure 1. Monthly Precipitation Anomalies (1993 - 2022)', pad=15, color='#333333')\n",
    "\n",
    "# Change spines\n",
    "ax.spines['top'].set_visible(False)\n",
    "ax.spines['right'].set_visible(False)\n",
    "ax.spines['left'].set_visible(False)\n",
    "ax.spines['bottom'].set_visible(False)\n",
    "\n",
    "# Add a horizontal grid,keep the vertical grid hidden\n",
    "ax.set_axisbelow(True)\n",
    "ax.yaxis.grid(True, color='white')\n",
    "ax.xaxis.grid(True, color='white')\n",
    "ax.tick_params(left = False, bottom = False)\n",
    "ax.set_facecolor('#E5ECF6')\n",
    "\n",
    "fig.tight_layout() \n",
    "plt.show()"
   ]
  },
  {
   "cell_type": "markdown",
   "id": "f00052ca",
   "metadata": {},
   "source": [
    "## 4.2 Wheat, Soybean, and Corn Yield Trends\n",
    "\n",
    "Now, we plot crop yield over the last three decades to identify trends and characteristics of each crop. As we can see, from _Figure 2_, some crops have higher yields than others. Corn, for example, seems to have the highest yield across most years, while soybean and wheat have a relatively lower yield. Additionally, we can observe that the yield for all crops in Buenos Aires was affected by a major drought in 2018, leading to a decrease in the yield for all crops."
   ]
  },
  {
   "cell_type": "code",
   "execution_count": 91,
   "id": "040afbd3",
   "metadata": {},
   "outputs": [
    {
     "data": {
      "application/vnd.plotly.v1+json": {
       "config": {
        "plotlyServerURL": "https://plot.ly"
       },
       "data": [
        {
         "line": {
          "color": "#E97297"
         },
         "name": "Trigo total",
         "type": "scatter",
         "x": [
          "1992/93",
          "1993/94",
          "1994/95",
          "1995/96",
          "1996/97",
          "1997/98",
          "1998/99",
          "1999/00",
          "2000/01",
          "2001/02",
          "2002/03",
          "2003/04",
          "2004/05",
          "2005/06",
          "2006/07",
          "2007/08",
          "2008/09",
          "2009/10",
          "2010/11",
          "2011/12",
          "2012/13",
          "2013/14",
          "2014/15",
          "2015/16",
          "2016/17",
          "2017/18",
          "2018/19",
          "2019/20",
          "2020/21",
          "2021/22"
         ],
         "y": [
          2381,
          2141,
          2363,
          2133,
          2472,
          2954,
          2327,
          2430,
          2794,
          2518,
          2177,
          2886,
          2972,
          2665,
          3025,
          2710,
          2290,
          2915,
          4044,
          3879,
          3096,
          3429,
          3091,
          3527,
          3567,
          3864,
          3993,
          3239,
          3833,
          3815
         ]
        },
        {
         "line": {
          "color": "#D8AD2C"
         },
         "name": "Maíz",
         "type": "scatter",
         "x": [
          "1992/93",
          "1993/94",
          "1994/95",
          "1995/96",
          "1996/97",
          "1997/98",
          "1998/99",
          "1999/00",
          "2000/01",
          "2001/02",
          "2002/03",
          "2003/04",
          "2004/05",
          "2005/06",
          "2006/07",
          "2007/08",
          "2008/09",
          "2009/10",
          "2010/11",
          "2011/12",
          "2012/13",
          "2013/14",
          "2014/15",
          "2015/16",
          "2016/17",
          "2017/18",
          "2018/19",
          "2019/20",
          "2020/21",
          "2021/22"
         ],
         "y": [
          4460,
          4498,
          5037,
          4526,
          5817,
          7258,
          6058,
          6101,
          5836,
          6454,
          6988,
          7569,
          8236,
          7154,
          8604,
          7552,
          5017,
          8755,
          7058,
          6337,
          8010,
          6954,
          7983,
          8271,
          8397,
          6619,
          8756,
          8109,
          7449,
          7082
         ]
        },
        {
         "line": {
          "color": "#BFD786"
         },
         "name": "Soja total",
         "type": "scatter",
         "x": [
          "1992/93",
          "1993/94",
          "1994/95",
          "1995/96",
          "1996/97",
          "1997/98",
          "1998/99",
          "1999/00",
          "2000/01",
          "2001/02",
          "2002/03",
          "2003/04",
          "2004/05",
          "2005/06",
          "2006/07",
          "2007/08",
          "2008/09",
          "2009/10",
          "2010/11",
          "2011/12",
          "2012/13",
          "2013/14",
          "2014/15",
          "2015/16",
          "2016/17",
          "2017/18",
          "2018/19",
          "2019/20",
          "2020/21",
          "2021/22"
         ],
         "y": [
          1843,
          1779,
          1912,
          1859,
          1820,
          2473,
          2694,
          2166,
          2485,
          2685,
          2914,
          2506,
          3077,
          2872,
          2906,
          2952,
          1331,
          3028,
          2647,
          2657,
          2692,
          2667,
          3017,
          3259,
          3092,
          2261,
          3236,
          2960,
          2588,
          2735
         ]
        }
       ],
       "layout": {
        "template": {
         "data": {
          "bar": [
           {
            "error_x": {
             "color": "#2a3f5f"
            },
            "error_y": {
             "color": "#2a3f5f"
            },
            "marker": {
             "line": {
              "color": "#E5ECF6",
              "width": 0.5
             },
             "pattern": {
              "fillmode": "overlay",
              "size": 10,
              "solidity": 0.2
             }
            },
            "type": "bar"
           }
          ],
          "barpolar": [
           {
            "marker": {
             "line": {
              "color": "#E5ECF6",
              "width": 0.5
             },
             "pattern": {
              "fillmode": "overlay",
              "size": 10,
              "solidity": 0.2
             }
            },
            "type": "barpolar"
           }
          ],
          "carpet": [
           {
            "aaxis": {
             "endlinecolor": "#2a3f5f",
             "gridcolor": "white",
             "linecolor": "white",
             "minorgridcolor": "white",
             "startlinecolor": "#2a3f5f"
            },
            "baxis": {
             "endlinecolor": "#2a3f5f",
             "gridcolor": "white",
             "linecolor": "white",
             "minorgridcolor": "white",
             "startlinecolor": "#2a3f5f"
            },
            "type": "carpet"
           }
          ],
          "choropleth": [
           {
            "colorbar": {
             "outlinewidth": 0,
             "ticks": ""
            },
            "type": "choropleth"
           }
          ],
          "contour": [
           {
            "colorbar": {
             "outlinewidth": 0,
             "ticks": ""
            },
            "colorscale": [
             [
              0,
              "#0d0887"
             ],
             [
              0.1111111111111111,
              "#46039f"
             ],
             [
              0.2222222222222222,
              "#7201a8"
             ],
             [
              0.3333333333333333,
              "#9c179e"
             ],
             [
              0.4444444444444444,
              "#bd3786"
             ],
             [
              0.5555555555555556,
              "#d8576b"
             ],
             [
              0.6666666666666666,
              "#ed7953"
             ],
             [
              0.7777777777777778,
              "#fb9f3a"
             ],
             [
              0.8888888888888888,
              "#fdca26"
             ],
             [
              1,
              "#f0f921"
             ]
            ],
            "type": "contour"
           }
          ],
          "contourcarpet": [
           {
            "colorbar": {
             "outlinewidth": 0,
             "ticks": ""
            },
            "type": "contourcarpet"
           }
          ],
          "heatmap": [
           {
            "colorbar": {
             "outlinewidth": 0,
             "ticks": ""
            },
            "colorscale": [
             [
              0,
              "#0d0887"
             ],
             [
              0.1111111111111111,
              "#46039f"
             ],
             [
              0.2222222222222222,
              "#7201a8"
             ],
             [
              0.3333333333333333,
              "#9c179e"
             ],
             [
              0.4444444444444444,
              "#bd3786"
             ],
             [
              0.5555555555555556,
              "#d8576b"
             ],
             [
              0.6666666666666666,
              "#ed7953"
             ],
             [
              0.7777777777777778,
              "#fb9f3a"
             ],
             [
              0.8888888888888888,
              "#fdca26"
             ],
             [
              1,
              "#f0f921"
             ]
            ],
            "type": "heatmap"
           }
          ],
          "heatmapgl": [
           {
            "colorbar": {
             "outlinewidth": 0,
             "ticks": ""
            },
            "colorscale": [
             [
              0,
              "#0d0887"
             ],
             [
              0.1111111111111111,
              "#46039f"
             ],
             [
              0.2222222222222222,
              "#7201a8"
             ],
             [
              0.3333333333333333,
              "#9c179e"
             ],
             [
              0.4444444444444444,
              "#bd3786"
             ],
             [
              0.5555555555555556,
              "#d8576b"
             ],
             [
              0.6666666666666666,
              "#ed7953"
             ],
             [
              0.7777777777777778,
              "#fb9f3a"
             ],
             [
              0.8888888888888888,
              "#fdca26"
             ],
             [
              1,
              "#f0f921"
             ]
            ],
            "type": "heatmapgl"
           }
          ],
          "histogram": [
           {
            "marker": {
             "pattern": {
              "fillmode": "overlay",
              "size": 10,
              "solidity": 0.2
             }
            },
            "type": "histogram"
           }
          ],
          "histogram2d": [
           {
            "colorbar": {
             "outlinewidth": 0,
             "ticks": ""
            },
            "colorscale": [
             [
              0,
              "#0d0887"
             ],
             [
              0.1111111111111111,
              "#46039f"
             ],
             [
              0.2222222222222222,
              "#7201a8"
             ],
             [
              0.3333333333333333,
              "#9c179e"
             ],
             [
              0.4444444444444444,
              "#bd3786"
             ],
             [
              0.5555555555555556,
              "#d8576b"
             ],
             [
              0.6666666666666666,
              "#ed7953"
             ],
             [
              0.7777777777777778,
              "#fb9f3a"
             ],
             [
              0.8888888888888888,
              "#fdca26"
             ],
             [
              1,
              "#f0f921"
             ]
            ],
            "type": "histogram2d"
           }
          ],
          "histogram2dcontour": [
           {
            "colorbar": {
             "outlinewidth": 0,
             "ticks": ""
            },
            "colorscale": [
             [
              0,
              "#0d0887"
             ],
             [
              0.1111111111111111,
              "#46039f"
             ],
             [
              0.2222222222222222,
              "#7201a8"
             ],
             [
              0.3333333333333333,
              "#9c179e"
             ],
             [
              0.4444444444444444,
              "#bd3786"
             ],
             [
              0.5555555555555556,
              "#d8576b"
             ],
             [
              0.6666666666666666,
              "#ed7953"
             ],
             [
              0.7777777777777778,
              "#fb9f3a"
             ],
             [
              0.8888888888888888,
              "#fdca26"
             ],
             [
              1,
              "#f0f921"
             ]
            ],
            "type": "histogram2dcontour"
           }
          ],
          "mesh3d": [
           {
            "colorbar": {
             "outlinewidth": 0,
             "ticks": ""
            },
            "type": "mesh3d"
           }
          ],
          "parcoords": [
           {
            "line": {
             "colorbar": {
              "outlinewidth": 0,
              "ticks": ""
             }
            },
            "type": "parcoords"
           }
          ],
          "pie": [
           {
            "automargin": true,
            "type": "pie"
           }
          ],
          "scatter": [
           {
            "fillpattern": {
             "fillmode": "overlay",
             "size": 10,
             "solidity": 0.2
            },
            "type": "scatter"
           }
          ],
          "scatter3d": [
           {
            "line": {
             "colorbar": {
              "outlinewidth": 0,
              "ticks": ""
             }
            },
            "marker": {
             "colorbar": {
              "outlinewidth": 0,
              "ticks": ""
             }
            },
            "type": "scatter3d"
           }
          ],
          "scattercarpet": [
           {
            "marker": {
             "colorbar": {
              "outlinewidth": 0,
              "ticks": ""
             }
            },
            "type": "scattercarpet"
           }
          ],
          "scattergeo": [
           {
            "marker": {
             "colorbar": {
              "outlinewidth": 0,
              "ticks": ""
             }
            },
            "type": "scattergeo"
           }
          ],
          "scattergl": [
           {
            "marker": {
             "colorbar": {
              "outlinewidth": 0,
              "ticks": ""
             }
            },
            "type": "scattergl"
           }
          ],
          "scattermapbox": [
           {
            "marker": {
             "colorbar": {
              "outlinewidth": 0,
              "ticks": ""
             }
            },
            "type": "scattermapbox"
           }
          ],
          "scatterpolar": [
           {
            "marker": {
             "colorbar": {
              "outlinewidth": 0,
              "ticks": ""
             }
            },
            "type": "scatterpolar"
           }
          ],
          "scatterpolargl": [
           {
            "marker": {
             "colorbar": {
              "outlinewidth": 0,
              "ticks": ""
             }
            },
            "type": "scatterpolargl"
           }
          ],
          "scatterternary": [
           {
            "marker": {
             "colorbar": {
              "outlinewidth": 0,
              "ticks": ""
             }
            },
            "type": "scatterternary"
           }
          ],
          "surface": [
           {
            "colorbar": {
             "outlinewidth": 0,
             "ticks": ""
            },
            "colorscale": [
             [
              0,
              "#0d0887"
             ],
             [
              0.1111111111111111,
              "#46039f"
             ],
             [
              0.2222222222222222,
              "#7201a8"
             ],
             [
              0.3333333333333333,
              "#9c179e"
             ],
             [
              0.4444444444444444,
              "#bd3786"
             ],
             [
              0.5555555555555556,
              "#d8576b"
             ],
             [
              0.6666666666666666,
              "#ed7953"
             ],
             [
              0.7777777777777778,
              "#fb9f3a"
             ],
             [
              0.8888888888888888,
              "#fdca26"
             ],
             [
              1,
              "#f0f921"
             ]
            ],
            "type": "surface"
           }
          ],
          "table": [
           {
            "cells": {
             "fill": {
              "color": "#EBF0F8"
             },
             "line": {
              "color": "white"
             }
            },
            "header": {
             "fill": {
              "color": "#C8D4E3"
             },
             "line": {
              "color": "white"
             }
            },
            "type": "table"
           }
          ]
         },
         "layout": {
          "annotationdefaults": {
           "arrowcolor": "#2a3f5f",
           "arrowhead": 0,
           "arrowwidth": 1
          },
          "autotypenumbers": "strict",
          "coloraxis": {
           "colorbar": {
            "outlinewidth": 0,
            "ticks": ""
           }
          },
          "colorscale": {
           "diverging": [
            [
             0,
             "#8e0152"
            ],
            [
             0.1,
             "#c51b7d"
            ],
            [
             0.2,
             "#de77ae"
            ],
            [
             0.3,
             "#f1b6da"
            ],
            [
             0.4,
             "#fde0ef"
            ],
            [
             0.5,
             "#f7f7f7"
            ],
            [
             0.6,
             "#e6f5d0"
            ],
            [
             0.7,
             "#b8e186"
            ],
            [
             0.8,
             "#7fbc41"
            ],
            [
             0.9,
             "#4d9221"
            ],
            [
             1,
             "#276419"
            ]
           ],
           "sequential": [
            [
             0,
             "#0d0887"
            ],
            [
             0.1111111111111111,
             "#46039f"
            ],
            [
             0.2222222222222222,
             "#7201a8"
            ],
            [
             0.3333333333333333,
             "#9c179e"
            ],
            [
             0.4444444444444444,
             "#bd3786"
            ],
            [
             0.5555555555555556,
             "#d8576b"
            ],
            [
             0.6666666666666666,
             "#ed7953"
            ],
            [
             0.7777777777777778,
             "#fb9f3a"
            ],
            [
             0.8888888888888888,
             "#fdca26"
            ],
            [
             1,
             "#f0f921"
            ]
           ],
           "sequentialminus": [
            [
             0,
             "#0d0887"
            ],
            [
             0.1111111111111111,
             "#46039f"
            ],
            [
             0.2222222222222222,
             "#7201a8"
            ],
            [
             0.3333333333333333,
             "#9c179e"
            ],
            [
             0.4444444444444444,
             "#bd3786"
            ],
            [
             0.5555555555555556,
             "#d8576b"
            ],
            [
             0.6666666666666666,
             "#ed7953"
            ],
            [
             0.7777777777777778,
             "#fb9f3a"
            ],
            [
             0.8888888888888888,
             "#fdca26"
            ],
            [
             1,
             "#f0f921"
            ]
           ]
          },
          "colorway": [
           "#636efa",
           "#EF553B",
           "#00cc96",
           "#ab63fa",
           "#FFA15A",
           "#19d3f3",
           "#FF6692",
           "#B6E880",
           "#FF97FF",
           "#FECB52"
          ],
          "font": {
           "color": "#2a3f5f"
          },
          "geo": {
           "bgcolor": "white",
           "lakecolor": "white",
           "landcolor": "#E5ECF6",
           "showlakes": true,
           "showland": true,
           "subunitcolor": "white"
          },
          "hoverlabel": {
           "align": "left"
          },
          "hovermode": "closest",
          "mapbox": {
           "style": "light"
          },
          "paper_bgcolor": "white",
          "plot_bgcolor": "#E5ECF6",
          "polar": {
           "angularaxis": {
            "gridcolor": "white",
            "linecolor": "white",
            "ticks": ""
           },
           "bgcolor": "#E5ECF6",
           "radialaxis": {
            "gridcolor": "white",
            "linecolor": "white",
            "ticks": ""
           }
          },
          "scene": {
           "xaxis": {
            "backgroundcolor": "#E5ECF6",
            "gridcolor": "white",
            "gridwidth": 2,
            "linecolor": "white",
            "showbackground": true,
            "ticks": "",
            "zerolinecolor": "white"
           },
           "yaxis": {
            "backgroundcolor": "#E5ECF6",
            "gridcolor": "white",
            "gridwidth": 2,
            "linecolor": "white",
            "showbackground": true,
            "ticks": "",
            "zerolinecolor": "white"
           },
           "zaxis": {
            "backgroundcolor": "#E5ECF6",
            "gridcolor": "white",
            "gridwidth": 2,
            "linecolor": "white",
            "showbackground": true,
            "ticks": "",
            "zerolinecolor": "white"
           }
          },
          "shapedefaults": {
           "line": {
            "color": "#2a3f5f"
           }
          },
          "ternary": {
           "aaxis": {
            "gridcolor": "white",
            "linecolor": "white",
            "ticks": ""
           },
           "baxis": {
            "gridcolor": "white",
            "linecolor": "white",
            "ticks": ""
           },
           "bgcolor": "#E5ECF6",
           "caxis": {
            "gridcolor": "white",
            "linecolor": "white",
            "ticks": ""
           }
          },
          "title": {
           "x": 0.05
          },
          "xaxis": {
           "automargin": true,
           "gridcolor": "white",
           "linecolor": "white",
           "ticks": "",
           "title": {
            "standoff": 15
           },
           "zerolinecolor": "white",
           "zerolinewidth": 2
          },
          "yaxis": {
           "automargin": true,
           "gridcolor": "white",
           "linecolor": "white",
           "ticks": "",
           "title": {
            "standoff": 15
           },
           "zerolinecolor": "white",
           "zerolinewidth": 2
          }
         }
        },
        "title": {
         "text": "Figure 2. Yield by Crop in Buenos Aires (1992 - 2022)"
        },
        "xaxis": {
         "title": {
          "text": "Year"
         }
        },
        "yaxis": {
         "title": {
          "text": "Yield (t/ha)"
         }
        }
       }
      },
      "text/html": [
       "<div>                            <div id=\"5bfa9124-a617-4fbf-8687-1de657f009d5\" class=\"plotly-graph-div\" style=\"height:525px; width:100%;\"></div>            <script type=\"text/javascript\">                require([\"plotly\"], function(Plotly) {                    window.PLOTLYENV=window.PLOTLYENV || {};                                    if (document.getElementById(\"5bfa9124-a617-4fbf-8687-1de657f009d5\")) {                    Plotly.newPlot(                        \"5bfa9124-a617-4fbf-8687-1de657f009d5\",                        [{\"line\":{\"color\":\"#E97297\"},\"name\":\"Trigo total\",\"x\":[\"1992/93\",\"1993/94\",\"1994/95\",\"1995/96\",\"1996/97\",\"1997/98\",\"1998/99\",\"1999/00\",\"2000/01\",\"2001/02\",\"2002/03\",\"2003/04\",\"2004/05\",\"2005/06\",\"2006/07\",\"2007/08\",\"2008/09\",\"2009/10\",\"2010/11\",\"2011/12\",\"2012/13\",\"2013/14\",\"2014/15\",\"2015/16\",\"2016/17\",\"2017/18\",\"2018/19\",\"2019/20\",\"2020/21\",\"2021/22\"],\"y\":[2381.0,2141.0,2363.0,2133.0,2472.0,2954.0,2327.0,2430.0,2794.0,2518.0,2177.0,2886.0,2972.0,2665.0,3025.0,2710.0,2290.0,2915.0,4044.0,3879.0,3096.0,3429.0,3091.0,3527.0,3567.0,3864.0,3993.0,3239.0,3833.0,3815.0],\"type\":\"scatter\"},{\"line\":{\"color\":\"#D8AD2C\"},\"name\":\"Ma\\u00edz\",\"x\":[\"1992/93\",\"1993/94\",\"1994/95\",\"1995/96\",\"1996/97\",\"1997/98\",\"1998/99\",\"1999/00\",\"2000/01\",\"2001/02\",\"2002/03\",\"2003/04\",\"2004/05\",\"2005/06\",\"2006/07\",\"2007/08\",\"2008/09\",\"2009/10\",\"2010/11\",\"2011/12\",\"2012/13\",\"2013/14\",\"2014/15\",\"2015/16\",\"2016/17\",\"2017/18\",\"2018/19\",\"2019/20\",\"2020/21\",\"2021/22\"],\"y\":[4460.0,4498.0,5037.0,4526.0,5817.0,7258.0,6058.0,6101.0,5836.0,6454.0,6988.0,7569.0,8236.0,7154.0,8604.0,7552.0,5017.0,8755.0,7058.0,6337.0,8010.0,6954.0,7983.0,8271.0,8397.0,6619.0,8756.0,8109.0,7449.0,7082.0],\"type\":\"scatter\"},{\"line\":{\"color\":\"#BFD786\"},\"name\":\"Soja total\",\"x\":[\"1992/93\",\"1993/94\",\"1994/95\",\"1995/96\",\"1996/97\",\"1997/98\",\"1998/99\",\"1999/00\",\"2000/01\",\"2001/02\",\"2002/03\",\"2003/04\",\"2004/05\",\"2005/06\",\"2006/07\",\"2007/08\",\"2008/09\",\"2009/10\",\"2010/11\",\"2011/12\",\"2012/13\",\"2013/14\",\"2014/15\",\"2015/16\",\"2016/17\",\"2017/18\",\"2018/19\",\"2019/20\",\"2020/21\",\"2021/22\"],\"y\":[1843.0,1779.0,1912.0,1859.0,1820.0,2473.0,2694.0,2166.0,2485.0,2685.0,2914.0,2506.0,3077.0,2872.0,2906.0,2952.0,1331.0,3028.0,2647.0,2657.0,2692.0,2667.0,3017.0,3259.0,3092.0,2261.0,3236.0,2960.0,2588.0,2735.0],\"type\":\"scatter\"}],                        {\"template\":{\"data\":{\"histogram2dcontour\":[{\"type\":\"histogram2dcontour\",\"colorbar\":{\"outlinewidth\":0,\"ticks\":\"\"},\"colorscale\":[[0.0,\"#0d0887\"],[0.1111111111111111,\"#46039f\"],[0.2222222222222222,\"#7201a8\"],[0.3333333333333333,\"#9c179e\"],[0.4444444444444444,\"#bd3786\"],[0.5555555555555556,\"#d8576b\"],[0.6666666666666666,\"#ed7953\"],[0.7777777777777778,\"#fb9f3a\"],[0.8888888888888888,\"#fdca26\"],[1.0,\"#f0f921\"]]}],\"choropleth\":[{\"type\":\"choropleth\",\"colorbar\":{\"outlinewidth\":0,\"ticks\":\"\"}}],\"histogram2d\":[{\"type\":\"histogram2d\",\"colorbar\":{\"outlinewidth\":0,\"ticks\":\"\"},\"colorscale\":[[0.0,\"#0d0887\"],[0.1111111111111111,\"#46039f\"],[0.2222222222222222,\"#7201a8\"],[0.3333333333333333,\"#9c179e\"],[0.4444444444444444,\"#bd3786\"],[0.5555555555555556,\"#d8576b\"],[0.6666666666666666,\"#ed7953\"],[0.7777777777777778,\"#fb9f3a\"],[0.8888888888888888,\"#fdca26\"],[1.0,\"#f0f921\"]]}],\"heatmap\":[{\"type\":\"heatmap\",\"colorbar\":{\"outlinewidth\":0,\"ticks\":\"\"},\"colorscale\":[[0.0,\"#0d0887\"],[0.1111111111111111,\"#46039f\"],[0.2222222222222222,\"#7201a8\"],[0.3333333333333333,\"#9c179e\"],[0.4444444444444444,\"#bd3786\"],[0.5555555555555556,\"#d8576b\"],[0.6666666666666666,\"#ed7953\"],[0.7777777777777778,\"#fb9f3a\"],[0.8888888888888888,\"#fdca26\"],[1.0,\"#f0f921\"]]}],\"heatmapgl\":[{\"type\":\"heatmapgl\",\"colorbar\":{\"outlinewidth\":0,\"ticks\":\"\"},\"colorscale\":[[0.0,\"#0d0887\"],[0.1111111111111111,\"#46039f\"],[0.2222222222222222,\"#7201a8\"],[0.3333333333333333,\"#9c179e\"],[0.4444444444444444,\"#bd3786\"],[0.5555555555555556,\"#d8576b\"],[0.6666666666666666,\"#ed7953\"],[0.7777777777777778,\"#fb9f3a\"],[0.8888888888888888,\"#fdca26\"],[1.0,\"#f0f921\"]]}],\"contourcarpet\":[{\"type\":\"contourcarpet\",\"colorbar\":{\"outlinewidth\":0,\"ticks\":\"\"}}],\"contour\":[{\"type\":\"contour\",\"colorbar\":{\"outlinewidth\":0,\"ticks\":\"\"},\"colorscale\":[[0.0,\"#0d0887\"],[0.1111111111111111,\"#46039f\"],[0.2222222222222222,\"#7201a8\"],[0.3333333333333333,\"#9c179e\"],[0.4444444444444444,\"#bd3786\"],[0.5555555555555556,\"#d8576b\"],[0.6666666666666666,\"#ed7953\"],[0.7777777777777778,\"#fb9f3a\"],[0.8888888888888888,\"#fdca26\"],[1.0,\"#f0f921\"]]}],\"surface\":[{\"type\":\"surface\",\"colorbar\":{\"outlinewidth\":0,\"ticks\":\"\"},\"colorscale\":[[0.0,\"#0d0887\"],[0.1111111111111111,\"#46039f\"],[0.2222222222222222,\"#7201a8\"],[0.3333333333333333,\"#9c179e\"],[0.4444444444444444,\"#bd3786\"],[0.5555555555555556,\"#d8576b\"],[0.6666666666666666,\"#ed7953\"],[0.7777777777777778,\"#fb9f3a\"],[0.8888888888888888,\"#fdca26\"],[1.0,\"#f0f921\"]]}],\"mesh3d\":[{\"type\":\"mesh3d\",\"colorbar\":{\"outlinewidth\":0,\"ticks\":\"\"}}],\"scatter\":[{\"fillpattern\":{\"fillmode\":\"overlay\",\"size\":10,\"solidity\":0.2},\"type\":\"scatter\"}],\"parcoords\":[{\"type\":\"parcoords\",\"line\":{\"colorbar\":{\"outlinewidth\":0,\"ticks\":\"\"}}}],\"scatterpolargl\":[{\"type\":\"scatterpolargl\",\"marker\":{\"colorbar\":{\"outlinewidth\":0,\"ticks\":\"\"}}}],\"bar\":[{\"error_x\":{\"color\":\"#2a3f5f\"},\"error_y\":{\"color\":\"#2a3f5f\"},\"marker\":{\"line\":{\"color\":\"#E5ECF6\",\"width\":0.5},\"pattern\":{\"fillmode\":\"overlay\",\"size\":10,\"solidity\":0.2}},\"type\":\"bar\"}],\"scattergeo\":[{\"type\":\"scattergeo\",\"marker\":{\"colorbar\":{\"outlinewidth\":0,\"ticks\":\"\"}}}],\"scatterpolar\":[{\"type\":\"scatterpolar\",\"marker\":{\"colorbar\":{\"outlinewidth\":0,\"ticks\":\"\"}}}],\"histogram\":[{\"marker\":{\"pattern\":{\"fillmode\":\"overlay\",\"size\":10,\"solidity\":0.2}},\"type\":\"histogram\"}],\"scattergl\":[{\"type\":\"scattergl\",\"marker\":{\"colorbar\":{\"outlinewidth\":0,\"ticks\":\"\"}}}],\"scatter3d\":[{\"type\":\"scatter3d\",\"line\":{\"colorbar\":{\"outlinewidth\":0,\"ticks\":\"\"}},\"marker\":{\"colorbar\":{\"outlinewidth\":0,\"ticks\":\"\"}}}],\"scattermapbox\":[{\"type\":\"scattermapbox\",\"marker\":{\"colorbar\":{\"outlinewidth\":0,\"ticks\":\"\"}}}],\"scatterternary\":[{\"type\":\"scatterternary\",\"marker\":{\"colorbar\":{\"outlinewidth\":0,\"ticks\":\"\"}}}],\"scattercarpet\":[{\"type\":\"scattercarpet\",\"marker\":{\"colorbar\":{\"outlinewidth\":0,\"ticks\":\"\"}}}],\"carpet\":[{\"aaxis\":{\"endlinecolor\":\"#2a3f5f\",\"gridcolor\":\"white\",\"linecolor\":\"white\",\"minorgridcolor\":\"white\",\"startlinecolor\":\"#2a3f5f\"},\"baxis\":{\"endlinecolor\":\"#2a3f5f\",\"gridcolor\":\"white\",\"linecolor\":\"white\",\"minorgridcolor\":\"white\",\"startlinecolor\":\"#2a3f5f\"},\"type\":\"carpet\"}],\"table\":[{\"cells\":{\"fill\":{\"color\":\"#EBF0F8\"},\"line\":{\"color\":\"white\"}},\"header\":{\"fill\":{\"color\":\"#C8D4E3\"},\"line\":{\"color\":\"white\"}},\"type\":\"table\"}],\"barpolar\":[{\"marker\":{\"line\":{\"color\":\"#E5ECF6\",\"width\":0.5},\"pattern\":{\"fillmode\":\"overlay\",\"size\":10,\"solidity\":0.2}},\"type\":\"barpolar\"}],\"pie\":[{\"automargin\":true,\"type\":\"pie\"}]},\"layout\":{\"autotypenumbers\":\"strict\",\"colorway\":[\"#636efa\",\"#EF553B\",\"#00cc96\",\"#ab63fa\",\"#FFA15A\",\"#19d3f3\",\"#FF6692\",\"#B6E880\",\"#FF97FF\",\"#FECB52\"],\"font\":{\"color\":\"#2a3f5f\"},\"hovermode\":\"closest\",\"hoverlabel\":{\"align\":\"left\"},\"paper_bgcolor\":\"white\",\"plot_bgcolor\":\"#E5ECF6\",\"polar\":{\"bgcolor\":\"#E5ECF6\",\"angularaxis\":{\"gridcolor\":\"white\",\"linecolor\":\"white\",\"ticks\":\"\"},\"radialaxis\":{\"gridcolor\":\"white\",\"linecolor\":\"white\",\"ticks\":\"\"}},\"ternary\":{\"bgcolor\":\"#E5ECF6\",\"aaxis\":{\"gridcolor\":\"white\",\"linecolor\":\"white\",\"ticks\":\"\"},\"baxis\":{\"gridcolor\":\"white\",\"linecolor\":\"white\",\"ticks\":\"\"},\"caxis\":{\"gridcolor\":\"white\",\"linecolor\":\"white\",\"ticks\":\"\"}},\"coloraxis\":{\"colorbar\":{\"outlinewidth\":0,\"ticks\":\"\"}},\"colorscale\":{\"sequential\":[[0.0,\"#0d0887\"],[0.1111111111111111,\"#46039f\"],[0.2222222222222222,\"#7201a8\"],[0.3333333333333333,\"#9c179e\"],[0.4444444444444444,\"#bd3786\"],[0.5555555555555556,\"#d8576b\"],[0.6666666666666666,\"#ed7953\"],[0.7777777777777778,\"#fb9f3a\"],[0.8888888888888888,\"#fdca26\"],[1.0,\"#f0f921\"]],\"sequentialminus\":[[0.0,\"#0d0887\"],[0.1111111111111111,\"#46039f\"],[0.2222222222222222,\"#7201a8\"],[0.3333333333333333,\"#9c179e\"],[0.4444444444444444,\"#bd3786\"],[0.5555555555555556,\"#d8576b\"],[0.6666666666666666,\"#ed7953\"],[0.7777777777777778,\"#fb9f3a\"],[0.8888888888888888,\"#fdca26\"],[1.0,\"#f0f921\"]],\"diverging\":[[0,\"#8e0152\"],[0.1,\"#c51b7d\"],[0.2,\"#de77ae\"],[0.3,\"#f1b6da\"],[0.4,\"#fde0ef\"],[0.5,\"#f7f7f7\"],[0.6,\"#e6f5d0\"],[0.7,\"#b8e186\"],[0.8,\"#7fbc41\"],[0.9,\"#4d9221\"],[1,\"#276419\"]]},\"xaxis\":{\"gridcolor\":\"white\",\"linecolor\":\"white\",\"ticks\":\"\",\"title\":{\"standoff\":15},\"zerolinecolor\":\"white\",\"automargin\":true,\"zerolinewidth\":2},\"yaxis\":{\"gridcolor\":\"white\",\"linecolor\":\"white\",\"ticks\":\"\",\"title\":{\"standoff\":15},\"zerolinecolor\":\"white\",\"automargin\":true,\"zerolinewidth\":2},\"scene\":{\"xaxis\":{\"backgroundcolor\":\"#E5ECF6\",\"gridcolor\":\"white\",\"linecolor\":\"white\",\"showbackground\":true,\"ticks\":\"\",\"zerolinecolor\":\"white\",\"gridwidth\":2},\"yaxis\":{\"backgroundcolor\":\"#E5ECF6\",\"gridcolor\":\"white\",\"linecolor\":\"white\",\"showbackground\":true,\"ticks\":\"\",\"zerolinecolor\":\"white\",\"gridwidth\":2},\"zaxis\":{\"backgroundcolor\":\"#E5ECF6\",\"gridcolor\":\"white\",\"linecolor\":\"white\",\"showbackground\":true,\"ticks\":\"\",\"zerolinecolor\":\"white\",\"gridwidth\":2}},\"shapedefaults\":{\"line\":{\"color\":\"#2a3f5f\"}},\"annotationdefaults\":{\"arrowcolor\":\"#2a3f5f\",\"arrowhead\":0,\"arrowwidth\":1},\"geo\":{\"bgcolor\":\"white\",\"landcolor\":\"#E5ECF6\",\"subunitcolor\":\"white\",\"showland\":true,\"showlakes\":true,\"lakecolor\":\"white\"},\"title\":{\"x\":0.05},\"mapbox\":{\"style\":\"light\"}}},\"title\":{\"text\":\"Figure 2. Yield by Crop in Buenos Aires (1992 - 2022)\"},\"xaxis\":{\"title\":{\"text\":\"Year\"}},\"yaxis\":{\"title\":{\"text\":\"Yield (t/ha)\"}}},                        {\"responsive\": true}                    ).then(function(){\n",
       "                            \n",
       "var gd = document.getElementById('5bfa9124-a617-4fbf-8687-1de657f009d5');\n",
       "var x = new MutationObserver(function (mutations, observer) {{\n",
       "        var display = window.getComputedStyle(gd).display;\n",
       "        if (!display || display === 'none') {{\n",
       "            console.log([gd, 'removed!']);\n",
       "            Plotly.purge(gd);\n",
       "            observer.disconnect();\n",
       "        }}\n",
       "}});\n",
       "\n",
       "// Listen for the removal of the full notebook cells\n",
       "var notebookContainer = gd.closest('#notebook-container');\n",
       "if (notebookContainer) {{\n",
       "    x.observe(notebookContainer, {childList: true});\n",
       "}}\n",
       "\n",
       "// Listen for the clearing of the current output cell\n",
       "var outputEl = gd.closest('.output');\n",
       "if (outputEl) {{\n",
       "    x.observe(outputEl, {childList: true});\n",
       "}}\n",
       "\n",
       "                        })                };                });            </script>        </div>"
      ]
     },
     "metadata": {},
     "output_type": "display_data"
    }
   ],
   "source": [
    "# Create an array with the colors\n",
    "pal = [\"#E97297\", \"#D8AD2C\", \"#BFD786\"]\n",
    "\n",
    "# List crops for plotting\n",
    "list_crop = list(set(crops['Cultivo']))\n",
    "\n",
    "# Plot crop yield\n",
    "fig = go.Figure()\n",
    "for c, p in zip(list_crop, pal):\n",
    "    fig.add_trace(go.Scatter(x= crops[crops['Cultivo']==c]['Campaña'],\n",
    "                             y= crops[crops['Cultivo']==c]['Rendimiento'],\n",
    "                             name = c,\n",
    "                             line_color = p,\n",
    "                             fill = None))\n",
    "    \n",
    "fig.update_layout(title='Figure 2. Yield by Crop in Buenos Aires (1992 - 2022)',\n",
    "                  xaxis_title=\"Year\",\n",
    "                  yaxis_title=\"Yield (t/ha)\")\n",
    "\n",
    "fig.show()"
   ]
  },
  {
   "cell_type": "markdown",
   "id": "0c5a5fb7",
   "metadata": {},
   "source": [
    "# 5. Precipitations vs. Crop Yield <a class=\"anchor\" id=\"fifth-bullet\"></a>\n",
    "\n",
    "This section of the notebook explores whether there is a correlation between precipitation and crop yield in Buenos Aires. "
   ]
  },
  {
   "cell_type": "markdown",
   "id": "3b925e52",
   "metadata": {},
   "source": [
    "#### Scatterplot: Precipitations vs. Crop Yield\n",
    "\n",
    "First we plot the mean annual precipitations against crop yield to get a sense of whether there is a linear relationship between the two variables. "
   ]
  },
  {
   "cell_type": "code",
   "execution_count": 108,
   "id": "a916fa44",
   "metadata": {},
   "outputs": [
    {
     "data": {
      "image/png": "[encoded data removed]",
      "text/plain": [
       "<Figure size 1500x500 with 3 Axes>"
      ]
     },
     "metadata": {},
     "output_type": "display_data"
    }
   ],
   "source": [
    "# Create subplots for each crop\n",
    "fig, axs = plt.subplots(1, 3, figsize=(15, 5))\n",
    "\n",
    "# Scatterplot for soybean\n",
    "axs[0].scatter(list(prcp['prcp'].groupby(prcp['Year']).mean()), \n",
    "               list(crops[crops['Cultivo'] == 'Soja total']['Rendimiento']), color = '#BFD786')\n",
    "axs[0].set_xlabel('Avg precipitations (mm)')\n",
    "axs[0].set_ylabel('Soybean yield (t/ha)')\n",
    "axs[0].set_title('Soybean')\n",
    "axs[0].set_facecolor('#E5ECF6')\n",
    "axs[0].spines['top'].set_visible(False)\n",
    "axs[0].spines['right'].set_visible(False)\n",
    "axs[0].spines['left'].set_visible(False)\n",
    "axs[0].spines['bottom'].set_visible(False)\n",
    "\n",
    "# Scatterplot for wheat\n",
    "axs[1].scatter(list(prcp['prcp'].groupby(prcp['Year']).mean()), \n",
    "               list(crops[crops['Cultivo'] == 'Trigo total']['Rendimiento']), color = '#E97297')\n",
    "axs[1].set_xlabel('Avg precipitations (mm)')\n",
    "axs[1].set_ylabel('Wheat yield (t/ha)')\n",
    "axs[1].set_title('Wheat')\n",
    "axs[1].set_facecolor('#E5ECF6')\n",
    "axs[1].spines['top'].set_visible(False)\n",
    "axs[1].spines['right'].set_visible(False)\n",
    "axs[1].spines['left'].set_visible(False)\n",
    "axs[1].spines['bottom'].set_visible(False)\n",
    "\n",
    "# Scatterplot for corn\n",
    "axs[2].scatter(list(prcp['prcp'].groupby(prcp['Year']).mean()), \n",
    "               list(crops[crops['Cultivo'] == 'Maíz']['Rendimiento']), color = '#D8AD2C')\n",
    "axs[2].set_xlabel('Avg precipitations (mm)')\n",
    "axs[2].set_ylabel('Corn yield (t/ha)')\n",
    "axs[2].set_title('Corn')\n",
    "axs[2].set_facecolor('#E5ECF6')\n",
    "axs[2].spines['top'].set_visible(False)\n",
    "axs[2].spines['right'].set_visible(False)\n",
    "axs[2].spines['left'].set_visible(False)\n",
    "axs[2].spines['bottom'].set_visible(False)\n",
    "\n",
    "# fig.set_facecolor('#F4EDE5')\n",
    "\n",
    "\n",
    "plt.show()"
   ]
  },
  {
   "cell_type": "markdown",
   "id": "9d87a39a",
   "metadata": {},
   "source": [
    "From the scatterplots above, there is no clear linear relationship between the variables being plotted.  The relationship between the variables may be non-linear or there may be other factors that affect the relationship. In this case, it is likely that other variables, such as temperature or soil quality, are affecting crop yield in addition to precipitation. "
   ]
  },
  {
   "cell_type": "markdown",
   "id": "0cd9bf23",
   "metadata": {},
   "source": [
    "#### Spearman's correlation coefficient and Kendall's tau. Mean annual precipitation vs. Crop yield.\n",
    "\n",
    "To further investigate the relationship, we turned to two nonparametric correlation measures: Spearman's rank correlation coefficient and Kendall's tau. These measures do not assume a linear relationship between the variables and are therefore more suitable for testing nonlinear relationships.\n",
    "\n",
    "If the results of Spearman's rank correlation coefficient and Kendall's tau are not statistically significant, it would give us confirmation that other variables are affecting crop production, and that precipitation alone may not be a strong predictor of crop yields for these three crops."
   ]
  },
  {
   "cell_type": "code",
   "execution_count": 13,
   "id": "b4c94095",
   "metadata": {
    "scrolled": true
   },
   "outputs": [
    {
     "data": {
      "text/html": [
       "<div>\n",
       "<style scoped>\n",
       "    .dataframe tbody tr th:only-of-type {\n",
       "        vertical-align: middle;\n",
       "    }\n",
       "\n",
       "    .dataframe tbody tr th {\n",
       "        vertical-align: top;\n",
       "    }\n",
       "\n",
       "    .dataframe thead th {\n",
       "        text-align: right;\n",
       "    }\n",
       "</style>\n",
       "<table border=\"1\" class=\"dataframe\">\n",
       "  <thead>\n",
       "    <tr style=\"text-align: right;\">\n",
       "      <th></th>\n",
       "      <th>Spearman's correlation coefficient</th>\n",
       "      <th>Spearman's p-value</th>\n",
       "      <th>Kendall's correlation coefficient</th>\n",
       "      <th>Kendall's p-value</th>\n",
       "    </tr>\n",
       "    <tr>\n",
       "      <th>Crop</th>\n",
       "      <th></th>\n",
       "      <th></th>\n",
       "      <th></th>\n",
       "      <th></th>\n",
       "    </tr>\n",
       "  </thead>\n",
       "  <tbody>\n",
       "    <tr>\n",
       "      <th>Soybean</th>\n",
       "      <td>0.238710</td>\n",
       "      <td>0.203953</td>\n",
       "      <td>0.140230</td>\n",
       "      <td>0.287111</td>\n",
       "    </tr>\n",
       "    <tr>\n",
       "      <th>Wheat</th>\n",
       "      <td>0.298776</td>\n",
       "      <td>0.108756</td>\n",
       "      <td>0.222989</td>\n",
       "      <td>0.086799</td>\n",
       "    </tr>\n",
       "    <tr>\n",
       "      <th>Corn</th>\n",
       "      <td>0.196885</td>\n",
       "      <td>0.297034</td>\n",
       "      <td>0.131034</td>\n",
       "      <td>0.320674</td>\n",
       "    </tr>\n",
       "  </tbody>\n",
       "</table>\n",
       "</div>"
      ],
      "text/plain": [
       "         Spearman's correlation coefficient  Spearman's p-value   \n",
       "Crop                                                              \n",
       "Soybean                            0.238710            0.203953  \\\n",
       "Wheat                              0.298776            0.108756   \n",
       "Corn                               0.196885            0.297034   \n",
       "\n",
       "         Kendall's correlation coefficient  Kendall's p-value  \n",
       "Crop                                                           \n",
       "Soybean                           0.140230           0.287111  \n",
       "Wheat                             0.222989           0.086799  \n",
       "Corn                              0.131034           0.320674  "
      ]
     },
     "execution_count": 13,
     "metadata": {},
     "output_type": "execute_result"
    }
   ],
   "source": [
    "# create a list of dictionaries to store the results\n",
    "results = []\n",
    "\n",
    "# define the crops and corresponding column names in the crops DataFrame\n",
    "crops_dict = {\n",
    "    'Soybean': 'Soja total',\n",
    "    'Wheat': 'Trigo total',\n",
    "    'Corn': 'Maíz'\n",
    "}\n",
    "\n",
    "# get the mean annual precipitation for each year\n",
    "prcp_mean = prcp.groupby('Year').mean()['prcp'].tolist()\n",
    "\n",
    "# loop over the crops and compute the correlations\n",
    "for crop, colname in crops_dict.items():\n",
    "    # get the crop yield data\n",
    "    crop_yield = crops[crops['Cultivo'] == colname]['Rendimiento'].tolist()\n",
    "    \n",
    "    # compute the Spearman's correlation coefficient and p-value\n",
    "    corr_spearman, pval_spearman = spearmanr(prcp_mean, crop_yield)\n",
    "    \n",
    "    # compute the Kendall's correlation coefficient and p-value\n",
    "    corr_kendall, pval_kendall = kendalltau(prcp_mean, crop_yield)\n",
    "    \n",
    "    # add the results to the list of dictionaries\n",
    "    results.append({\n",
    "        'Crop': crop,\n",
    "        'Spearman\\'s correlation coefficient': corr_spearman,\n",
    "        'Spearman\\'s p-value': pval_spearman,\n",
    "        'Kendall\\'s correlation coefficient': corr_kendall,\n",
    "        'Kendall\\'s p-value': pval_kendall\n",
    "    })\n",
    "\n",
    "# create a DataFrame from the results\n",
    "results_df = pd.DataFrame(results)\n",
    "\n",
    "# set the Crop column as the index\n",
    "results_df.set_index('Crop', inplace=True)\n",
    "\n",
    "# display the results\n",
    "results_df"
   ]
  },
  {
   "cell_type": "markdown",
   "id": "515ee6e0",
   "metadata": {},
   "source": [
    "Looking at the results of the Spearman's correlation coefficient and Kendall's tau tests, we can see that for soybean, wheat, and corn, the values are all positive, indicating a positive association between crop yield and precipitation. However, only the correlation coefficient for wheat is somewhat statistically significant at the 0.05 level, with a p-value of 0.108756 for Spearman's and 0.086799 for Kendall's.\n",
    "\n",
    "For soybean and corn, the p-values are greater than 0.05, indicating that there is not enough evidence to reject the null hypothesis and that there is no significant correlation between crop yield and precipitation. This suggests that other factors may be affecting crop production for these crops, and further investigation is needed."
   ]
  },
  {
   "cell_type": "markdown",
   "id": "b7c86b03",
   "metadata": {},
   "source": [
    "#### Spearman's correlation coefficient and Kendall's tau. Mean precipitation of selected months vs. Crop yield. Crop's Growing Period.\n",
    "\n",
    "However, we also know that the growing period of each crop is different and spans over specific months. Therefore, we will modify our analysis to select only the months that correspond to the growing period of each crop and evaluate its effect on the correlation coefficients and p-values. Soybean is grown from October to January, wheat from June to December, and corn from September to January."
   ]
  },
  {
   "cell_type": "code",
   "execution_count": 14,
   "id": "f37fd7a2",
   "metadata": {},
   "outputs": [
    {
     "data": {
      "text/html": [
       "<div>\n",
       "<style scoped>\n",
       "    .dataframe tbody tr th:only-of-type {\n",
       "        vertical-align: middle;\n",
       "    }\n",
       "\n",
       "    .dataframe tbody tr th {\n",
       "        vertical-align: top;\n",
       "    }\n",
       "\n",
       "    .dataframe thead th {\n",
       "        text-align: right;\n",
       "    }\n",
       "</style>\n",
       "<table border=\"1\" class=\"dataframe\">\n",
       "  <thead>\n",
       "    <tr style=\"text-align: right;\">\n",
       "      <th></th>\n",
       "      <th>Spearman's correlation coefficient</th>\n",
       "      <th>Spearman's p-value</th>\n",
       "      <th>Kendall's correlation coefficient</th>\n",
       "      <th>Kendall's p-value</th>\n",
       "    </tr>\n",
       "    <tr>\n",
       "      <th>Crop</th>\n",
       "      <th></th>\n",
       "      <th></th>\n",
       "      <th></th>\n",
       "      <th></th>\n",
       "    </tr>\n",
       "  </thead>\n",
       "  <tbody>\n",
       "    <tr>\n",
       "      <th>Soybean</th>\n",
       "      <td>0.239155</td>\n",
       "      <td>0.203086</td>\n",
       "      <td>0.112644</td>\n",
       "      <td>0.395032</td>\n",
       "    </tr>\n",
       "    <tr>\n",
       "      <th>Wheat</th>\n",
       "      <td>0.335261</td>\n",
       "      <td>0.070126</td>\n",
       "      <td>0.250575</td>\n",
       "      <td>0.053447</td>\n",
       "    </tr>\n",
       "    <tr>\n",
       "      <th>Corn</th>\n",
       "      <td>0.204449</td>\n",
       "      <td>0.278484</td>\n",
       "      <td>0.140230</td>\n",
       "      <td>0.287111</td>\n",
       "    </tr>\n",
       "  </tbody>\n",
       "</table>\n",
       "</div>"
      ],
      "text/plain": [
       "         Spearman's correlation coefficient  Spearman's p-value   \n",
       "Crop                                                              \n",
       "Soybean                            0.239155            0.203086  \\\n",
       "Wheat                              0.335261            0.070126   \n",
       "Corn                               0.204449            0.278484   \n",
       "\n",
       "         Kendall's correlation coefficient  Kendall's p-value  \n",
       "Crop                                                           \n",
       "Soybean                           0.112644           0.395032  \n",
       "Wheat                             0.250575           0.053447  \n",
       "Corn                              0.140230           0.287111  "
      ]
     },
     "execution_count": 14,
     "metadata": {},
     "output_type": "execute_result"
    }
   ],
   "source": [
    "# Create index lists to select rows corresponding to desired months\n",
    "months = [9, 10, 11, 12, 1]\n",
    "months2 = [6, 7, 8, 9, 10, 11, 12]\n",
    "\n",
    "# Select the rows corresponding to the desired months\n",
    "selected = prcp.loc[prcp.index.get_level_values(1).isin(months)].groupby(prcp['Year']).mean()\n",
    "selected2 = prcp.loc[prcp.index.get_level_values(1).isin(months2)].groupby(prcp['Year']).mean()\n",
    "\n",
    "# Select relevant variable\n",
    "x1 = list(selected['prcp'])\n",
    "x2 = list(selected2['prcp'])\n",
    "\n",
    "# create a list of dictionaries to store the results\n",
    "results = []\n",
    "\n",
    "# define the crops and corresponding column names in the crops DataFrame\n",
    "crops_dict = {\n",
    "    'Soybean': 'Soja total',\n",
    "    'Wheat': 'Trigo total',\n",
    "    'Corn': 'Maíz'\n",
    "}\n",
    "\n",
    "# # get the mean annual precipitation for each year\n",
    "# prcp_mean = prcp.groupby('Year').mean()['prcp'].tolist()\n",
    "\n",
    "# loop over the crops and compute the correlations\n",
    "for crop, colname in crops_dict.items():\n",
    "    \n",
    "    # get the crop yield data\n",
    "    if crop in ['Corn', 'Soybean']:\n",
    "        x = x1\n",
    "    elif crop == 'Wheat':\n",
    "        x = x2\n",
    "        \n",
    "    # get the crop yield data\n",
    "    crop_yield = crops[crops['Cultivo'] == colname]['Rendimiento'].tolist()\n",
    "    \n",
    "    # compute the Spearman's correlation coefficient and p-value\n",
    "    corr_spearman, pval_spearman = spearmanr(x, crop_yield)\n",
    "    \n",
    "    # compute the Kendall's correlation coefficient and p-value\n",
    "    corr_kendall, pval_kendall = kendalltau(x, crop_yield)\n",
    "    \n",
    "    # add the results to the list of dictionaries\n",
    "    results.append({\n",
    "        'Crop': crop,\n",
    "        'Spearman\\'s correlation coefficient': corr_spearman,\n",
    "        'Spearman\\'s p-value': pval_spearman,\n",
    "        'Kendall\\'s correlation coefficient': corr_kendall,\n",
    "        'Kendall\\'s p-value': pval_kendall\n",
    "    })\n",
    "\n",
    "# create a DataFrame from the results\n",
    "results_df = pd.DataFrame(results)\n",
    "\n",
    "# set the Crop column as the index\n",
    "results_df.set_index('Crop', inplace=True)\n",
    "\n",
    "# display the results\n",
    "results_df"
   ]
  },
  {
   "cell_type": "markdown",
   "id": "589cf42b",
   "metadata": {},
   "source": [
    "The analysis was again conducted separately for each crop, and the results suggest that precipitation has a slightly stronger positive correlation with wheat yield than with soybean and corn yields. Kendall's p-value for wheat is somewhat statistically significant, with 0.053447. Interestingly, we find that the correlation coefficients between precipitation and yield for wheat have increased in both tests compared to the annual analysis. For soybean and corn, the correlation coefficients remain relatively unchanged. As with the annual analysis, the p-values are still high, meaning that the results should be interpreted with caution.\n",
    "\n",
    "We cannot conclude with certainty that there is a significant correlation between precipitation and crop yield. Precipitation may have an effect on crop yield, but results show that this factor alone is not a good indicator of crop yield. Other factors such as temperature, soil quality, and pest management should also be considered."
   ]
  },
  {
   "cell_type": "markdown",
   "id": "38f5083c",
   "metadata": {},
   "source": [
    "# 6. Introducing other independent variables <a class=\"anchor\" id=\"sixth-bullet\"></a>\n",
    "\n",
    "In light of the results from the previous section, where we found that only wheat showed a somewhat statistically significant positive correlation with precipitation, while soybean and corn did not, we need to explore other independent variables that may be affecting the yield of these crops. Therefore, in this section, we will incorporate daily average temperature and wind speed. By including these variables in our analysis, we hope to shed light on the factors that influence crop production in Buenos Aires, Argentina."
   ]
  },
  {
   "cell_type": "code",
   "execution_count": 15,
   "id": "7a78e4cc",
   "metadata": {
    "scrolled": false
   },
   "outputs": [
    {
     "name": "stderr",
     "output_type": "stream",
     "text": [
      "C:\\Users\\ampig\\AppData\\Local\\Temp\\ipykernel_7460\\4282182627.py:11: SettingWithCopyWarning:\n",
      "\n",
      "\n",
      "A value is trying to be set on a copy of a slice from a DataFrame.\n",
      "Try using .loc[row_indexer,col_indexer] = value instead\n",
      "\n",
      "See the caveats in the documentation: https://pandas.pydata.org/pandas-docs/stable/user_guide/indexing.html#returning-a-view-versus-a-copy\n",
      "\n",
      "C:\\Users\\ampig\\AppData\\Local\\Temp\\ipykernel_7460\\4282182627.py:13: SettingWithCopyWarning:\n",
      "\n",
      "\n",
      "A value is trying to be set on a copy of a slice from a DataFrame.\n",
      "Try using .loc[row_indexer,col_indexer] = value instead\n",
      "\n",
      "See the caveats in the documentation: https://pandas.pydata.org/pandas-docs/stable/user_guide/indexing.html#returning-a-view-versus-a-copy\n",
      "\n",
      "C:\\Users\\ampig\\AppData\\Local\\Temp\\ipykernel_7460\\4282182627.py:15: SettingWithCopyWarning:\n",
      "\n",
      "\n",
      "A value is trying to be set on a copy of a slice from a DataFrame.\n",
      "Try using .loc[row_indexer,col_indexer] = value instead\n",
      "\n",
      "See the caveats in the documentation: https://pandas.pydata.org/pandas-docs/stable/user_guide/indexing.html#returning-a-view-versus-a-copy\n",
      "\n"
     ]
    }
   ],
   "source": [
    "# Averaging the Daily precipitations from the stations\n",
    "weather = (pd.concat(dfs).groupby(level='time').agg({'prcp':'mean', 'tavg':'mean', 'wspd':'mean'}))\n",
    "\n",
    "# # Now getting monthly mean precipitations\n",
    "weather = weather.groupby([(weather.index.year), (weather.index.month)]).mean()\n",
    "weather['Year'] = weather.index.get_level_values(0)\n",
    "weather = weather.groupby(weather['Year']).mean()\n",
    "\n",
    "# Reload crop data\n",
    "soybean_yield = crops[crops['Cultivo'] == 'Soja total']\n",
    "soybean_yield.loc[:,('Year')] = crops['Campaña'].str[:4].astype(int)\n",
    "wheat_yield = crops[crops['Cultivo'] == 'Trigo total']\n",
    "wheat_yield.loc[:,('Year')] = crops['Campaña'].str[:4].astype(int)\n",
    "corn_yield = crops[crops['Cultivo'] == 'Maíz']\n",
    "corn_yield.loc[:,('Year')] = crops['Campaña'].str[:4].astype(int)"
   ]
  },
  {
   "cell_type": "markdown",
   "id": "c43ecca4",
   "metadata": {},
   "source": [
    "To incorporate the new variables, we will concatenate the weather data with the crop yield data for soybean, corn, and wheat. Then, we will use ordinary least squares (OLS) regression to model the relationship between the independent variables (precipitation, daily average temperature, and wind speed) and the dependent variable (crop yield). \n",
    "\n",
    "First, the weather data is merged with the crop yield data using the common variable 'Year'. Then, the independent variables (precipitation, temperature, and wind speed) are selected and a constant is added to the model using the statsmodels library. This allows us to estimate the baseline or mean value of the dependent variable  when all of the independent variables are equal to zero. The dependent variable is the crop yield, and the model is fit using the OLS (ordinary least squares) method. Finally, the model summary is displayed for each crop."
   ]
  },
  {
   "cell_type": "code",
   "execution_count": 16,
   "id": "555d7311",
   "metadata": {},
   "outputs": [
    {
     "data": {
      "text/html": [
       "<h3>Soy</h3><table class=\"simpletable\">\n",
       "<tr>\n",
       "    <td></td>       <th>coef</th>     <th>std err</th>      <th>t</th>      <th>P>|t|</th>  <th>[0.025</th>    <th>0.975]</th>  \n",
       "</tr>\n",
       "<tr>\n",
       "  <th>const</th> <td> 1450.8936</td> <td> 3870.284</td> <td>    0.375</td> <td> 0.711</td> <td>-6520.106</td> <td> 9421.893</td>\n",
       "</tr>\n",
       "<tr>\n",
       "  <th>prcp</th>  <td>   78.8170</td> <td>   55.481</td> <td>    1.421</td> <td> 0.168</td> <td>  -35.448</td> <td>  193.082</td>\n",
       "</tr>\n",
       "<tr>\n",
       "  <th>tavg</th>  <td>  232.0278</td> <td>  221.634</td> <td>    1.047</td> <td> 0.305</td> <td> -224.436</td> <td>  688.492</td>\n",
       "</tr>\n",
       "<tr>\n",
       "  <th>wspd</th>  <td> -216.8675</td> <td>  132.287</td> <td>   -1.639</td> <td> 0.114</td> <td> -489.317</td> <td>   55.582</td>\n",
       "</tr>\n",
       "</table>"
      ],
      "text/plain": [
       "<IPython.core.display.HTML object>"
      ]
     },
     "metadata": {},
     "output_type": "display_data"
    },
    {
     "data": {
      "text/html": [
       "<h3>Corn</h3><table class=\"simpletable\">\n",
       "<tr>\n",
       "    <td></td>       <th>coef</th>     <th>std err</th>      <th>t</th>      <th>P>|t|</th>  <th>[0.025</th>    <th>0.975]</th>  \n",
       "</tr>\n",
       "<tr>\n",
       "  <th>const</th> <td>-3545.0831</td> <td> 9396.994</td> <td>   -0.377</td> <td> 0.709</td> <td>-2.29e+04</td> <td> 1.58e+04</td>\n",
       "</tr>\n",
       "<tr>\n",
       "  <th>prcp</th>  <td>  163.1615</td> <td>  134.707</td> <td>    1.211</td> <td> 0.237</td> <td> -114.272</td> <td>  440.595</td>\n",
       "</tr>\n",
       "<tr>\n",
       "  <th>tavg</th>  <td> 1129.7304</td> <td>  538.125</td> <td>    2.099</td> <td> 0.046</td> <td>   21.442</td> <td> 2238.019</td>\n",
       "</tr>\n",
       "<tr>\n",
       "  <th>wspd</th>  <td> -603.1330</td> <td>  321.190</td> <td>   -1.878</td> <td> 0.072</td> <td>-1264.636</td> <td>   58.370</td>\n",
       "</tr>\n",
       "</table>"
      ],
      "text/plain": [
       "<IPython.core.display.HTML object>"
      ]
     },
     "metadata": {},
     "output_type": "display_data"
    },
    {
     "data": {
      "text/html": [
       "<h3>Wheat</h3><table class=\"simpletable\">\n",
       "<tr>\n",
       "    <td></td>       <th>coef</th>     <th>std err</th>      <th>t</th>      <th>P>|t|</th>  <th>[0.025</th>    <th>0.975]</th>  \n",
       "</tr>\n",
       "<tr>\n",
       "  <th>const</th> <td>-1.055e+04</td> <td> 4249.261</td> <td>   -2.482</td> <td> 0.020</td> <td>-1.93e+04</td> <td>-1796.488</td>\n",
       "</tr>\n",
       "<tr>\n",
       "  <th>prcp</th>  <td>   35.6439</td> <td>   60.913</td> <td>    0.585</td> <td> 0.564</td> <td>  -89.810</td> <td>  161.098</td>\n",
       "</tr>\n",
       "<tr>\n",
       "  <th>tavg</th>  <td>  938.4394</td> <td>  243.337</td> <td>    3.857</td> <td> 0.001</td> <td>  437.278</td> <td> 1439.600</td>\n",
       "</tr>\n",
       "<tr>\n",
       "  <th>wspd</th>  <td> -101.7718</td> <td>  145.240</td> <td>   -0.701</td> <td> 0.490</td> <td> -400.899</td> <td>  197.356</td>\n",
       "</tr>\n",
       "</table>"
      ],
      "text/plain": [
       "<IPython.core.display.HTML object>"
      ]
     },
     "metadata": {},
     "output_type": "display_data"
    }
   ],
   "source": [
    "# Concatenate the weather data with crop yield data\n",
    "data_sets = [(soybean_yield, \"Soy\"), (corn_yield, \"Corn\"), (wheat_yield, \"Wheat\")]\n",
    "\n",
    "# Loop through the data sets and print the model summaries side by side\n",
    "for data, name in data_sets:\n",
    "    data = pd.merge(weather, data, how='inner', left_on='Year', right_on='Year')\n",
    "    X = data[['prcp', 'tavg', 'wspd']]\n",
    "    X = sm.add_constant(X)\n",
    "    y = data['Rendimiento']\n",
    "    model = sm.OLS(y, X).fit()\n",
    "    summary_html = model.summary().tables[1].as_html()\n",
    "    display(HTML(f'<h3>{name}</h3>' + summary_html))\n"
   ]
  },
  {
   "cell_type": "markdown",
   "id": "ba7f306b",
   "metadata": {},
   "source": [
    "<table border=\"0\">\n",
    " <tr>\n",
    "    <td><b style=\"font-size:30px\">Soybean</b></td>\n",
    "    <td><b style=\"font-size:30px\">Corn</b></td>\n",
    "    <td><b style=\"font-size:30px\">Wheat</b></td>\n",
    " </tr>\n",
    " <tr>\n",
    "    <td>The coefficients for two out of the three predictor variables (prcp, tavg, and wspd) are positive, indicating a positive association between these variables and soybean yield. However, none of the coefficients are statistically significant at the 0.05 level, with all p-values greater than 0.05. This suggests that there is not enough evidence to conclude that these variables have a significant impact on soybean yield.</td>\n",
    "    <td>The coefficient for tavg is statistically significant at the 0.05 level, with a p-value of 0.046. This suggests that there is a positive association between temperature and corn yield, and that this association is statistically significant. However, the coefficients for prcp and wspd are not statistically significant at the 0.05 level.</td>\n",
    "     <td>The coefficients for prcp and wspd are not statistically significant at the 0.05 level, with p-values of 0.564 and 0.490, respectively. However, the coefficient for tavg is statistically significant, with a p-value of 0.001.</td>\n",
    " </tr>\n",
    "</table>"
   ]
  },
  {
   "cell_type": "markdown",
   "id": "a5988f3b",
   "metadata": {},
   "source": [
    "It seems that there is a stronger correlation between average temperature and corn/wheat yield than soybean yield. This could be for several reasons: temperature requirements, heat stress, growing season, etc. It could also be that the data used was collected from regions where temperature highs or lows occurred during critical growing periods of wheat and corn, and thus affected them more, or that soybean is simply more resistant. "
   ]
  },
  {
   "cell_type": "markdown",
   "id": "13d9df63",
   "metadata": {},
   "source": [
    "# 7. Discussion <a class=\"anchor\" id=\"seventh-bullet\"></a>\n",
    "\n",
    "## 7.1 Limitations\n",
    "\n",
    "The limitations of this study include the use of only three independent variables (precipitation, temperature, and wind speed) to model the relationship between weather and crop yield. Additionally, the study was conducted in a small geographic area, which may limit the generalizability of the results. Furthermore, crop yield is complex and there are likely other potential factors that may affect it that were not included in the analysis, such as soil type, pest infestations, fertilizer use, and artificial irrigation. Finally, weather can be unpredictable, especially with the increasing climate variability and changing climate patterns. This may affect the accuracy of any of the models fitted to the data over time.\n",
    "\n",
    "## 7.2 Conclusion\n",
    "\n",
    "The study's findings imply that a definite correlation between precipitation and crop yield in Buenos Aires cannot be established. Although precipitation may impact crop yield, it should not be regarded as a reliable indicator on its own. Overall, this notebook highlights the complexity of crop productivity and the importance of understanding the impact of weather on crop productivity, particularly in regions such as Buenos Aires, Argentina where agriculture plays a significant role in the economy. Future research could explore additional independent variables and expand the study to cover a larger area, as well as investigate other potential factors that may affect crop yield."
   ]
  },
  {
   "cell_type": "markdown",
   "id": "029901c5",
   "metadata": {},
   "source": [
    "# Sources\n",
    "\n",
    "- USDA Foreign Agricultural Service. (2021, March 17). Argentina Grain and Feed Update. https://www.fas.usda.gov/data/argentina-grain-and-feed-update-19\n",
    "\n",
    "- Gro Intelligence. (n.d.). Buenos Aires Province, Argentina - Crop Yield Forecast. https://app.gro-intelligence.com/displays/NdVMDYj9v?utm_campaign=Engagement%20Notes&utm_medium=email&_hsmi=100039652&_hsenc=p2ANqtz-9ERwWoy3ivo3In3sxBCh2EHiIw4lbXEkZpzDv1n5qlE6QWT-KDpiml28vRSbD75B1Har4CbY7PiPqUc6knzQNkfW9JOTEDZw6cF-XGml06oqIoQ98&utm_content=100039652&utm_source=hs_email\n",
    "\n",
    "- Ministerio de Agricultura, Ganadería y Pesca. (n.d.). Estimaciones Agrícolas. https://datosestimaciones.magyp.gob.ar/reportes.php?reporte=Estimaciones\n",
    "\n",
    "- Agrositio. (2021, March 15). The Agricultural Emergency Due to Drought in the Province of Buenos Aires is Extended. https://www.agrositio.com.ar/noticia/228398-se-decreto-la-prorroga-de-la-emergencia-agropecuaria-por-la-sequia-en-la-provincia-de-buenos-aires\n",
    "\n",
    "- Yahoo Finance. (2021, April 1). Brazil Will Cover 50% of Argentine Imports. https://es-us.finanzas.yahoo.com/noticias/brasil-cubrir%C3%A1-50-importaciones-argentinas-154703948.html?guccounter=1&guce_referrer=aHR0cHM6Ly93d3cuZ29vZ2xlLmNvbS8&guce_referrer_sig=AQAAAIGJlHvKUrtI3hRFWmJ3Hc0x509GP2YBo_rd-W2Q8cXnPQIuEtwb4DQZk3gd9dYHLYgEDev2mN8xLlG63rxjUPh7WOOE1fbs54IwYzAzbfvXXh32x15KA-KVJIrNubpKR2l2IEwXjObHhTEclcRTfTN1En-3KW7BqSHgaddpp8tb\n",
    "\n",
    "- Statistics Solutions. (n.d.). Kendall's Tau and Spearman's Rank Correlation Coefficient. Retrieved from https://www.statisticssolutions.com/free-resources/directory-of-statistical-analyses/kendalls-tau-and-spearmans-rank-correlation-coefficient/#:~:text=Correlation%20analyses%20measure%20the%20strength,in%20order%20and%20are%20numbered."
   ]
  }
 ],
 "metadata": {
  "kernelspec": {
   "display_name": "Python 3 (ipykernel)",
   "language": "python",
   "name": "python3"
  },
  "language_info": {
   "codemirror_mode": {
    "name": "ipython",
    "version": 3
   },
   "file_extension": ".py",
   "mimetype": "text/x-python",
   "name": "python",
   "nbconvert_exporter": "python",
   "pygments_lexer": "ipython3",
   "version": "3.10.8"
  }
 },
 "nbformat": 4,
 "nbformat_minor": 5
}
